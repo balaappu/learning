{
 "cells": [
  {
   "cell_type": "code",
   "execution_count": 1,
   "metadata": {},
   "outputs": [
    {
     "name": "stdout",
     "output_type": "stream",
     "text": [
      "the largest number is: 41\n"
     ]
    }
   ],
   "source": [
    "#write a py program to find the max of three numbers\n",
    "num1=int(input(\"enter first number:\"))\n",
    "num2=int(input(\"enter second number:\"))\n",
    "num3=int(input(\"enter third number:\"))\n",
    "if num1>=num2 and num1>=num3:\n",
    "    largest=num1\n",
    "elif num2>=num1 and num2>=num3:\n",
    "    largest=num2\n",
    "else:\n",
    "    largest=num3\n",
    "print(\"the largest number is:\",largest)            "
   ]
  },
  {
   "cell_type": "code",
   "execution_count": 3,
   "metadata": {},
   "outputs": [
    {
     "name": "stdout",
     "output_type": "stream",
     "text": [
      "20\n"
     ]
    }
   ],
   "source": [
    "#py program to sum of all numbers in a list\n",
    "def sum(numbers):\n",
    "    total=0\n",
    "    for x in numbers:\n",
    "        total+=x\n",
    "    return total\n",
    "print(sum((8,2,0,3,7)))"
   ]
  },
  {
   "cell_type": "code",
   "execution_count": 4,
   "metadata": {},
   "outputs": [
    {
     "name": "stdout",
     "output_type": "stream",
     "text": [
      "-336\n"
     ]
    }
   ],
   "source": [
    "#py program to multiply of all the number in a list\n",
    "def multi(numbers):\n",
    "    total=1\n",
    "    for x in numbers:\n",
    "        total*=x\n",
    "    return total \n",
    "print(multi((8,2,3,-1,7)))   "
   ]
  },
  {
   "cell_type": "code",
   "execution_count": 5,
   "metadata": {},
   "outputs": [
    {
     "name": "stdout",
     "output_type": "stream",
     "text": [
      "reversed string: halla687\n"
     ]
    }
   ],
   "source": [
    "#reverse a string\n",
    "string=input(\"enter the string:\")\n",
    "reversed_string=string[::-1]\n",
    "print(\"reversed string:\",reversed_string)"
   ]
  },
  {
   "cell_type": "code",
   "execution_count": 12,
   "metadata": {},
   "outputs": [
    {
     "name": "stdout",
     "output_type": "stream",
     "text": [
      "True\n"
     ]
    }
   ],
   "source": [
    "#12. Write a Python function that checks whether a passed string is a palindrome or not\n",
    "def isPalindrome(string):\n",
    "    left_pos=0\n",
    "    right_pos=len(string) -1\n",
    "\n",
    "    while right_pos>=left_pos:\n",
    "        if not string [left_pos] ==string[right_pos]:\n",
    "            return False\n",
    "        left_pos+=1\n",
    "        right_pos-=1\n",
    "    return True\n",
    "print(isPalindrome('level'))    "
   ]
  },
  {
   "cell_type": "code",
   "execution_count": 20,
   "metadata": {},
   "outputs": [
    {
     "name": "stdout",
     "output_type": "stream",
     "text": [
      "True\n"
     ]
    }
   ],
   "source": [
    "# Write a Python function that takes a number as a parameter and checks whether the number is prime or not\n",
    "\n",
    "def test_prime(n):\n",
    "    if(n==1):\n",
    "        return False\n",
    "    elif(n==2):\n",
    "        return True\n",
    "    else:\n",
    "        for x in range(2,n):\n",
    "            if(n%x==0):\n",
    "                return False\n",
    "        return True\n",
    "print(test_prime(11))    \n"
   ]
  },
  {
   "cell_type": "code",
   "execution_count": 21,
   "metadata": {},
   "outputs": [
    {
     "name": "stdout",
     "output_type": "stream",
     "text": [
      "** **\n",
      "*   *\n",
      "*   *\n",
      "** **\n",
      "** **\n",
      "** **\n",
      "** **\n"
     ]
    }
   ],
   "source": [
    "#\n",
    "for i in range(7):\n",
    "    for j in range(5):\n",
    "        if (i == 0 and j != 2) or (i == 1 and (j == 0 or j == 4)) or (i == 2 and (j == 0 or j == 4)) or (i == 3 and j != 2) or (i == 4 and j != 2) or (i == 5 and j != 2) or (i == 6 and j != 2):\n",
    "            print(\"*\", end=\"\")\n",
    "        else:\n",
    "            print(end=\" \")\n",
    "    print()\n"
   ]
  },
  {
   "cell_type": "code",
   "execution_count": 14,
   "metadata": {},
   "outputs": [
    {
     "name": "stdout",
     "output_type": "stream",
     "text": [
      "3\n"
     ]
    }
   ],
   "source": [
    "#py program to detect no of local variables in function\n",
    "def abc():\n",
    "    x=1\n",
    "    y=2\n",
    "    str1=\"w3 resource\"\n",
    "    print(\"pyhton excrcises\")\n",
    "print(abc.__code__.co_nlocals)    "
   ]
  },
  {
   "cell_type": "code",
   "execution_count": 16,
   "metadata": {},
   "outputs": [
    {
     "name": "stdout",
     "output_type": "stream",
     "text": [
      "10\n"
     ]
    }
   ],
   "source": [
    "#py program to access function inside a function\n",
    "def test(a):\n",
    "    def add(b):\n",
    "        nonlocal a\n",
    "        a+=1\n",
    "        return a+b\n",
    "    return add\n",
    "func=test(5)\n",
    "print(func(4))"
   ]
  },
  {
   "cell_type": "code",
   "execution_count": 18,
   "metadata": {},
   "outputs": [
    {
     "name": "stdout",
     "output_type": "stream",
     "text": [
      "[1, 4, 9, 16, 25, 36, 49, 64, 81, 100, 121, 144, 169, 196, 225, 256, 289, 324, 361, 400]\n"
     ]
    }
   ],
   "source": [
    "#py program to create and print a list where the value are the square of no b/w 1 to 30 \n",
    "def printvalues():\n",
    "    l=list()\n",
    "    for i in range(1,21):\n",
    "        l.append(i**2)\n",
    "    print(l)\n",
    "printvalues()        "
   ]
  }
 ],
 "metadata": {
  "kernelspec": {
   "display_name": "Python 3",
   "language": "python",
   "name": "python3"
  },
  "language_info": {
   "codemirror_mode": {
    "name": "ipython",
    "version": 3
   },
   "file_extension": ".py",
   "mimetype": "text/x-python",
   "name": "python",
   "nbconvert_exporter": "python",
   "pygments_lexer": "ipython3",
   "version": "3.11.2"
  },
  "orig_nbformat": 4
 },
 "nbformat": 4,
 "nbformat_minor": 2
}
