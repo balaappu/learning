{
 "cells": [
  {
   "cell_type": "code",
   "execution_count": 1,
   "metadata": {},
   "outputs": [
    {
     "name": "stdout",
     "output_type": "stream",
     "text": [
      "learning is important\n"
     ]
    }
   ],
   "source": [
    "#basic function calling,\n",
    "def my_function():\n",
    "    print(\"learning is important\")\n",
    "my_function()    "
   ]
  },
  {
   "cell_type": "code",
   "execution_count": 4,
   "metadata": {},
   "outputs": [
    {
     "name": "stdout",
     "output_type": "stream",
     "text": [
      "the most popular department is mechanical\n"
     ]
    }
   ],
   "source": [
    "#arbitary arguments * args function\n",
    "\n",
    "def department(*branch):\n",
    "    print(\"the most popular department is\" + \" \" +branch[4])\n",
    "department(\"civil\",\"ece\",\"automobile\",\"cse\",\"mechanical\",\"ece\")    "
   ]
  },
  {
   "cell_type": "code",
   "execution_count": 7,
   "metadata": {},
   "outputs": [
    {
     "name": "stdout",
     "output_type": "stream",
     "text": [
      "the youngest child is victor\n"
     ]
    }
   ],
   "source": [
    "#keywords arguments\n",
    "\n",
    "def my_function(child3,child2,child1):\n",
    "    print(\"the youngest child is\" +\" \"+child3)\n",
    "my_function(child1=\"john\",child2=\"kenedy\",child3=\"victor\")    "
   ]
  },
  {
   "cell_type": "code",
   "execution_count": 8,
   "metadata": {},
   "outputs": [
    {
     "name": "stdout",
     "output_type": "stream",
     "text": [
      "the last name is shankar\n"
     ]
    }
   ],
   "source": [
    "#arbitary arguments **\n",
    "def name(**kid):\n",
    "    print(\"the last name is\" + \" \"+ kid[\"lname\"])\n",
    "name(fname=\"arjun\",lname=\"shankar\")    "
   ]
  },
  {
   "cell_type": "code",
   "execution_count": 9,
   "metadata": {},
   "outputs": [
    {
     "name": "stdout",
     "output_type": "stream",
     "text": [
      "  i am studying chemistry\n",
      "  i am studying social\n",
      "  i am studying physics\n",
      "  i am studying maths\n"
     ]
    }
   ],
   "source": [
    "#default parameter values\n",
    "\n",
    "def name(subject=\"physics\"):\n",
    "    print(\"  i am studying \"+ subject)\n",
    "name(\"chemistry\")\n",
    "name(\"social\")\n",
    "name()\n",
    "name(\"maths\")    \n"
   ]
  }
 ],
 "metadata": {
  "kernelspec": {
   "display_name": "Python 3",
   "language": "python",
   "name": "python3"
  },
  "language_info": {
   "codemirror_mode": {
    "name": "ipython",
    "version": 3
   },
   "file_extension": ".py",
   "mimetype": "text/x-python",
   "name": "python",
   "nbconvert_exporter": "python",
   "pygments_lexer": "ipython3",
   "version": "3.10.4"
  },
  "orig_nbformat": 4,
  "vscode": {
   "interpreter": {
    "hash": "21cebfe441230840cba1c4cb361f077664989049bef5e2ed5168580d9a660451"
   }
  }
 },
 "nbformat": 4,
 "nbformat_minor": 2
}
