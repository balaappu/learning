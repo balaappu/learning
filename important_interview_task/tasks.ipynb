{
 "cells": [
  {
   "cell_type": "code",
   "execution_count": 3,
   "metadata": {},
   "outputs": [
    {
     "name": "stdout",
     "output_type": "stream",
     "text": [
      "153 is a amstrong number\n"
     ]
    }
   ],
   "source": [
    "#amstrong number\n",
    "num=int(input(\"enter a number:\"))\n",
    "sum=0\n",
    "temp=num\n",
    "n=len(str(num))\n",
    "\n",
    "while temp>0:\n",
    "    digit = temp%10\n",
    "    sum=sum+digit**n\n",
    "    temp=temp//10\n",
    "\n",
    "if num==sum:\n",
    "    print(num,\"is a amstrong number\")\n",
    "else:\n",
    "    print(num,\"is not a amstrong number\" )\n",
    "    \n",
    "\n",
    "    "
   ]
  },
  {
   "cell_type": "code",
   "execution_count": 5,
   "metadata": {},
   "outputs": [
    {
     "name": "stdout",
     "output_type": "stream",
     "text": [
      "The strings are anagrams.\n"
     ]
    }
   ],
   "source": [
    "#anagram\n",
    "# get input strings from user\n",
    "string1 = input(\"Enter the first string: \")\n",
    "string2 = input(\"Enter the second string: \")\n",
    "\n",
    "# check if strings are of equal length\n",
    "if len(string1) != len(string2):\n",
    "    print(\"The strings are not anagrams.\")\n",
    "else:\n",
    "    # convert strings to lowercase and sort them\n",
    "    sorted_string1 = sorted(string1.lower())\n",
    "    sorted_string2 = sorted(string2.lower())\n",
    "\n",
    "    # compare the two sorted strings\n",
    "    if sorted_string1 == sorted_string2:\n",
    "        print(\"The strings are anagrams.\")\n",
    "    else:\n",
    "        print(\"The strings are not anagrams.\")"
   ]
  },
  {
   "cell_type": "code",
   "execution_count": 10,
   "metadata": {},
   "outputs": [
    {
     "name": "stdout",
     "output_type": "stream",
     "text": [
      "maths and manoj are not a anagram\n"
     ]
    }
   ],
   "source": [
    "string1=input(\"enter the first string:\")\n",
    "string2=input(\"enter the second string:\")\n",
    "\n",
    "if len(string1)!= len(string2):\n",
    "    print(\"the strings are not anagram\")\n",
    "else:\n",
    "    sorted_string1=sorted(string1.lower())\n",
    "    sorted_string2=sorted(string2.lower())\n",
    "\n",
    "    if sorted_string1==sorted_string2:\n",
    "        print(f'{string1} and {string2} are anagram')\n",
    "    else:\n",
    "        print(f'{string1} and {string2} are not a anagram')        "
   ]
  },
  {
   "cell_type": "code",
   "execution_count": null,
   "metadata": {},
   "outputs": [],
   "source": []
  }
 ],
 "metadata": {
  "kernelspec": {
   "display_name": "Python 3",
   "language": "python",
   "name": "python3"
  },
  "language_info": {
   "codemirror_mode": {
    "name": "ipython",
    "version": 3
   },
   "file_extension": ".py",
   "mimetype": "text/x-python",
   "name": "python",
   "nbconvert_exporter": "python",
   "pygments_lexer": "ipython3",
   "version": "3.11.2"
  },
  "orig_nbformat": 4
 },
 "nbformat": 4,
 "nbformat_minor": 2
}
