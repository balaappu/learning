{
 "cells": [
  {
   "cell_type": "code",
   "execution_count": 2,
   "metadata": {},
   "outputs": [
    {
     "name": "stdout",
     "output_type": "stream",
     "text": [
      "0 1 1 2 3 5 8 13 "
     ]
    }
   ],
   "source": [
    "#Write a python program for Fibonacci Series using while loop\n",
    "n = int(input(\"enter number for series :\"))\n",
    "\n",
    "a = 0\n",
    "b = 1\n",
    "\n",
    "if n <= 0:\n",
    "    print('Enter valid number (>0)')\n",
    "\n",
    "elif n == 1:\n",
    "    print(a)\n",
    "\n",
    "elif n == 2:\n",
    "    print(a,b)\n",
    "\n",
    "else:\n",
    "    print(a, end=\" \")\n",
    "    print(b, end=\" \")\n",
    "    i = 0\n",
    "    while i < n-2:\n",
    "        c = a + b\n",
    "        a=b\n",
    "        b=c\n",
    "        print(c, end = \" \")\n",
    "        i+=1"
   ]
  },
  {
   "cell_type": "code",
   "execution_count": 3,
   "metadata": {},
   "outputs": [
    {
     "name": "stdout",
     "output_type": "stream",
     "text": [
      "0 1 1 2 3 5 8 "
     ]
    }
   ],
   "source": [
    "#write a python program for fibonacci series using for loop\n",
    "\n",
    "n=int(input(\"enter a number:\"))\n",
    "a=0\n",
    "b=1\n",
    "\n",
    "if n<=0:\n",
    "    print('enter a valid number(>0)')\n",
    "\n",
    "elif n == 1:\n",
    "    print(a)\n",
    "\n",
    "elif n == 2:\n",
    "    print(a,b)\n",
    "\n",
    "else:\n",
    "    print(a,end=\" \")\n",
    "    print(b,end=\" \")\n",
    "\n",
    "    for i in range(n-2):\n",
    "        c=a+b\n",
    "        a=b\n",
    "        b=c\n",
    "        print(c,end=\" \")\n",
    "        \n",
    "\n",
    "\n"
   ]
  },
  {
   "cell_type": "code",
   "execution_count": 4,
   "metadata": {},
   "outputs": [
    {
     "name": "stdout",
     "output_type": "stream",
     "text": [
      "[0, 1, 1, 2, 3]\n"
     ]
    }
   ],
   "source": [
    "#Write a python program for Fibonacci Series using the list\n",
    "n=int(input(\"enter a number:\"))\n",
    "a=0\n",
    "b=1\n",
    "fibo_list=[]\n",
    "\n",
    "if n<0:\n",
    "    print('enter a valid number(>0)')\n",
    "\n",
    "elif n == 1:\n",
    "    fibo_list.append(a)\n",
    "    print(fibo_list)\n",
    "\n",
    "elif n == 2:\n",
    "    fibo_list.append(a)\n",
    "    fibo_list.append(b)\n",
    "    print(fibo_list)\n",
    "\n",
    "else:\n",
    "    fibo_list.append(a)\n",
    "    fibo_list.append(b)\n",
    "\n",
    "    for i in range(n-2):\n",
    "        c= a+b\n",
    "        fibo_list.append(c)\n",
    "        a=b\n",
    "        b=c\n",
    "    print(fibo_list)        "
   ]
  },
  {
   "cell_type": "code",
   "execution_count": 6,
   "metadata": {},
   "outputs": [
    {
     "name": "stdout",
     "output_type": "stream",
     "text": [
      "0 1 1 2 3 5 8 13 "
     ]
    }
   ],
   "source": [
    "#Write a python program for Fibonacci Series using the function\n",
    "def fibonacci(num):\n",
    "    a=0\n",
    "    b=1\n",
    "    if num == 1:\n",
    "        print(a,end=\" \")\n",
    "\n",
    "    elif num == 2:\n",
    "        print(a,b)\n",
    "\n",
    "    else:\n",
    "        print(a,end=\" \")\n",
    "        print(b,end=\" \")\n",
    "        i=0\n",
    "        while i< num-2:\n",
    "            c=a+b\n",
    "            a=b\n",
    "            b=c\n",
    "            print(c,end=\" \")\n",
    "            i+=1\n",
    "n=int(input(\"enter the number for series\"))\n",
    "if n<=0:\n",
    "    print('enter a valid number(>0)')\n",
    "\n",
    "else:\n",
    "    fibonacci(n)                \n",
    "\n",
    "\n"
   ]
  },
  {
   "cell_type": "code",
   "execution_count": 6,
   "metadata": {},
   "outputs": [
    {
     "name": "stdout",
     "output_type": "stream",
     "text": [
      "0,1,1,2,3,5,8\n"
     ]
    }
   ],
   "source": [
    "def fib(n):\n",
    "    a=0\n",
    "    b=1\n",
    "    if n == 0:\n",
    "        return a\n",
    "    elif n == 1:\n",
    "        return b\n",
    "    else:\n",
    "        return fib(n-1) + fib(n-2)\n",
    "n=int(input('enter a number:'))\n",
    "if n<=0:\n",
    "    print('enter valid number(>0)')\n",
    "else:\n",
    "    l = [str(fib(i)) for i in range(0,n)]\n",
    "\n",
    "    print(','.join(l))               "
   ]
  }
 ],
 "metadata": {
  "kernelspec": {
   "display_name": "Python 3",
   "language": "python",
   "name": "python3"
  },
  "language_info": {
   "codemirror_mode": {
    "name": "ipython",
    "version": 3
   },
   "file_extension": ".py",
   "mimetype": "text/x-python",
   "name": "python",
   "nbconvert_exporter": "python",
   "pygments_lexer": "ipython3",
   "version": "3.10.4"
  },
  "orig_nbformat": 4,
  "vscode": {
   "interpreter": {
    "hash": "21cebfe441230840cba1c4cb361f077664989049bef5e2ed5168580d9a660451"
   }
  }
 },
 "nbformat": 4,
 "nbformat_minor": 2
}
