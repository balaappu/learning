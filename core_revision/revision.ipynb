{
 "cells": [
  {
   "attachments": {},
   "cell_type": "markdown",
   "metadata": {},
   "source": [
    "#conditional statement\n",
    "#if-else"
   ]
  },
  {
   "cell_type": "code",
   "execution_count": 3,
   "metadata": {},
   "outputs": [
    {
     "name": "stdout",
     "output_type": "stream",
     "text": [
      "enter the amount\n"
     ]
    }
   ],
   "source": [
    "#if-else\n",
    "pin=1234\n",
    "if pin == 1234:\n",
    "    print(\"enter the amount\")\n",
    "else:\n",
    "    print(\"check the pin\")    "
   ]
  },
  {
   "cell_type": "code",
   "execution_count": 6,
   "metadata": {},
   "outputs": [
    {
     "name": "stdout",
     "output_type": "stream",
     "text": [
      "enter correct pin\n"
     ]
    }
   ],
   "source": [
    "#if-elif-else\n",
    "pin=12345\n",
    "if pin == 1234:\n",
    "    print(\"enter the amount\")\n",
    "elif pin==\" \":\n",
    "    print(\"please enter the pin\")\n",
    "elif pin !=1234:\n",
    "    print(\"enter correct pin\")    \n",
    "else:\n",
    "    print(\"thank you\")    "
   ]
  },
  {
   "cell_type": "code",
   "execution_count": null,
   "metadata": {},
   "outputs": [],
   "source": []
  }
 ],
 "metadata": {
  "kernelspec": {
   "display_name": "Python 3",
   "language": "python",
   "name": "python3"
  },
  "language_info": {
   "codemirror_mode": {
    "name": "ipython",
    "version": 3
   },
   "file_extension": ".py",
   "mimetype": "text/x-python",
   "name": "python",
   "nbconvert_exporter": "python",
   "pygments_lexer": "ipython3",
   "version": "3.11.2"
  },
  "orig_nbformat": 4
 },
 "nbformat": 4,
 "nbformat_minor": 2
}
