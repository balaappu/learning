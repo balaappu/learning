{
 "cells": [
  {
   "cell_type": "code",
   "execution_count": 1,
   "metadata": {},
   "outputs": [
    {
     "name": "stdout",
     "output_type": "stream",
     "text": [
      "0\n",
      "1\n",
      "2\n",
      "3\n",
      "4\n",
      "5\n",
      "6\n"
     ]
    }
   ],
   "source": [
    "i=0\n",
    "while i<=6:\n",
    "    print(i)\n",
    "    i=i+1"
   ]
  },
  {
   "cell_type": "code",
   "execution_count": 3,
   "metadata": {},
   "outputs": [
    {
     "name": "stdout",
     "output_type": "stream",
     "text": [
      "Hello world\n",
      "Hello world\n",
      "Hello world\n",
      "Hello world\n",
      "Hello world\n",
      "Hello world\n",
      "Hello world\n",
      "Hello world\n",
      "Hello world\n",
      "Hello world\n",
      "Hello world\n"
     ]
    }
   ],
   "source": [
    "#initialization(where to start a loop i=0)\n",
    "i = 0\n",
    "#condition (where to stop a loop i<=10)\n",
    "while i<=10:\n",
    "    print('Hello world')\n",
    "# increment(+)    \n",
    "    i = i+1\n"
   ]
  },
  {
   "cell_type": "code",
   "execution_count": 4,
   "metadata": {},
   "outputs": [
    {
     "name": "stdout",
     "output_type": "stream",
     "text": [
      "0\n",
      "1\n",
      "2\n"
     ]
    }
   ],
   "source": [
    "#using break statement\n",
    "i=0\n",
    "while i<=6:\n",
    "    if i == 3:\n",
    "        break\n",
    "    print(i)\n",
    "    i=i+1"
   ]
  },
  {
   "cell_type": "code",
   "execution_count": 5,
   "metadata": {},
   "outputs": [
    {
     "name": "stdout",
     "output_type": "stream",
     "text": [
      "1\n",
      "3\n",
      "4\n",
      "5\n",
      "6\n"
     ]
    }
   ],
   "source": [
    "#using continue statement in while loop\n",
    "i=0\n",
    "while i<6:\n",
    "    i+=1\n",
    "    if i == 2:\n",
    "        continue\n",
    "    print(i)\n"
   ]
  },
  {
   "cell_type": "code",
   "execution_count": 7,
   "metadata": {},
   "outputs": [
    {
     "name": "stdout",
     "output_type": "stream",
     "text": [
      "0\n",
      "1\n",
      "2\n",
      "3\n",
      "4\n",
      "5\n",
      "6\n",
      "i is no longer than 6\n"
     ]
    }
   ],
   "source": [
    "#else statement in while loop\n",
    "i=0\n",
    "while i<=6:\n",
    "    print(i)\n",
    "    i+=1\n",
    "else:\n",
    "    print(\"i is no longer than 6\")    "
   ]
  },
  {
   "cell_type": "code",
   "execution_count": 8,
   "metadata": {},
   "outputs": [
    {
     "name": "stdout",
     "output_type": "stream",
     "text": [
      "0\n",
      "1\n",
      "2\n",
      "3\n",
      "4\n",
      "5\n",
      "6\n",
      "i is no longer than 6\n"
     ]
    }
   ],
   "source": [
    "i=0\n",
    "while i<=6:\n",
    "    print(i)\n",
    "# incermental method differ from previous(i+=1 == i=i+1)    \n",
    "    i=i+1\n",
    "else:\n",
    "    print(\"i is no longer than 6\")    "
   ]
  },
  {
   "cell_type": "code",
   "execution_count": 12,
   "metadata": {},
   "outputs": [
    {
     "name": "stdout",
     "output_type": "stream",
     "text": [
      "2\n",
      "4\n",
      "6\n",
      "8\n",
      "10\n"
     ]
    }
   ],
   "source": [
    "#to print even number in while loop using if condition\n",
    "i=1\n",
    "while i<=10:\n",
    "# 10 divide by reminder ,quadant    \n",
    "    if i % 2 == 0:\n",
    "        print(i)\n",
    "    i+=1    "
   ]
  },
  {
   "cell_type": "code",
   "execution_count": 13,
   "metadata": {},
   "outputs": [
    {
     "name": "stdout",
     "output_type": "stream",
     "text": [
      "1\n",
      "3\n",
      "5\n",
      "7\n",
      "9\n"
     ]
    }
   ],
   "source": [
    "i=1\n",
    "while i<=10:\n",
    "# 10 divide by 0 reminder 1    \n",
    "    if i % 2 == 1:\n",
    "        print(i)\n",
    "    i+=1    "
   ]
  },
  {
   "cell_type": "code",
   "execution_count": 16,
   "metadata": {},
   "outputs": [
    {
     "name": "stdout",
     "output_type": "stream",
     "text": [
      "1+2=3\n",
      "2+2=4\n",
      "3+2=5\n",
      "4+2=6\n",
      "5+2=7\n",
      "6+2=8\n",
      "7+2=9\n",
      "8+2=10\n",
      "9+2=11\n",
      "10+2=12\n"
     ]
    }
   ],
   "source": [
    "#addition table\n",
    "i=1\n",
    "add=2\n",
    "while i<=10:\n",
    "    print(f'{i}+{add}={i+add}')\n",
    "    i=i+1"
   ]
  },
  {
   "cell_type": "code",
   "execution_count": 17,
   "metadata": {},
   "outputs": [
    {
     "name": "stdout",
     "output_type": "stream",
     "text": [
      "1*2=2\n",
      "2*2=4\n",
      "3*2=6\n",
      "4*2=8\n",
      "5*2=10\n",
      "6*2=12\n",
      "7*2=14\n",
      "8*2=16\n",
      "9*2=18\n",
      "10*2=20\n"
     ]
    }
   ],
   "source": [
    "i=1\n",
    "multi=2\n",
    "while i<=10:\n",
    "    print(f'{i}*{multi}={i*multi}')\n",
    "    i=i+1"
   ]
  },
  {
   "cell_type": "code",
   "execution_count": 19,
   "metadata": {},
   "outputs": [
    {
     "name": "stdout",
     "output_type": "stream",
     "text": [
      "1\n",
      "2\n",
      "3\n",
      "4\n",
      "5\n",
      "6\n",
      "7\n"
     ]
    }
   ],
   "source": [
    "#Write a python program to print 1 to N natural numbers using a while-loop.\n",
    "#using input method\n",
    "num=int(input(\"enter the number:\"))\n",
    "i=1\n",
    "while i<=num:\n",
    "    print(i)\n",
    "    i+=1"
   ]
  },
  {
   "cell_type": "code",
   "execution_count": null,
   "metadata": {},
   "outputs": [],
   "source": []
  }
 ],
 "metadata": {
  "kernelspec": {
   "display_name": "Python 3",
   "language": "python",
   "name": "python3"
  },
  "language_info": {
   "codemirror_mode": {
    "name": "ipython",
    "version": 3
   },
   "file_extension": ".py",
   "mimetype": "text/x-python",
   "name": "python",
   "nbconvert_exporter": "python",
   "pygments_lexer": "ipython3",
   "version": "3.11.2"
  },
  "orig_nbformat": 4
 },
 "nbformat": 4,
 "nbformat_minor": 2
}
