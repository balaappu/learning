{
 "cells": [
  {
   "cell_type": "code",
   "execution_count": 1,
   "metadata": {},
   "outputs": [],
   "source": [
    "import tkinter as tk\n",
    "r=tk.Tk()\n",
    "r.title('clock')\n",
    "button=tk.Button(r,text='run',width=30,command=r.destroy)\n",
    "button.pack()\n",
    "r.mainloop()"
   ]
  },
  {
   "cell_type": "code",
   "execution_count": 3,
   "metadata": {},
   "outputs": [],
   "source": [
    "import tkinter as tk\n",
    "r=tk.Tk()\n",
    "r.title('counting seconds')\n",
    "button=tk.Button(r,text='stop',width=25,command=r.destroy)\n",
    "button.pack()\n",
    "r.mainloop()"
   ]
  },
  {
   "cell_type": "code",
   "execution_count": 1,
   "metadata": {},
   "outputs": [],
   "source": [
    "from tkinter import *\n",
    "master=Tk()\n",
    "var1= IntVar()\n",
    "Checkbutton(master,text='male',variable=var1).grid(row=0,sticky=W)\n",
    "var2=IntVar()\n",
    "Checkbutton(master,text='female',variable=var2).grid(row=1,sticky=W)\n",
    "mainloop()\n"
   ]
  },
  {
   "cell_type": "code",
   "execution_count": 9,
   "metadata": {},
   "outputs": [],
   "source": [
    "import tkinter as tk\n",
    "r=tk.Tk()\n",
    "r.title('counting seconds')\n",
    "button=tk.Button(r,text='stop',width=25,command=r.bell)\n",
    "button.pack()\n",
    "r.mainloop()"
   ]
  },
  {
   "attachments": {},
   "cell_type": "markdown",
   "metadata": {},
   "source": [
    "CANVAS"
   ]
  },
  {
   "cell_type": "code",
   "execution_count": 2,
   "metadata": {},
   "outputs": [],
   "source": [
    "from tkinter import *\n",
    "master = Tk()\n",
    "w = Canvas(master, width=40, height=60)\n",
    "w.pack()\n",
    "canvas_height=20\n",
    "canvas_width=200\n",
    "y = int(canvas_height / 2)\n",
    "w.create_line(0, y, canvas_width, y )\n",
    "mainloop()"
   ]
  },
  {
   "cell_type": "code",
   "execution_count": 3,
   "metadata": {},
   "outputs": [],
   "source": [
    "from tkinter import*\n",
    "master=Tk()\n",
    "w= Canvas(master,width=40,height=60)\n",
    "w.pack()\n",
    "canvas_height=20\n",
    "canvas_width=200\n",
    "y=canvas_height\n",
    "w.create_line(0,y,canvas_width,y)\n",
    "mainloop()"
   ]
  },
  {
   "attachments": {},
   "cell_type": "markdown",
   "metadata": {},
   "source": [
    "CHECKBUTTON"
   ]
  },
  {
   "cell_type": "code",
   "execution_count": 5,
   "metadata": {},
   "outputs": [],
   "source": [
    "from tkinter import*\n",
    "master=Tk()\n",
    "Checkbutton1=Checkbutton(text='male').grid(row=0,sticky=W)\n",
    "checkbutton2=Checkbutton(text='female').grid(row=1,sticky=W)\n",
    "mainloop()"
   ]
  },
  {
   "cell_type": "code",
   "execution_count": 11,
   "metadata": {},
   "outputs": [],
   "source": [
    "from tkinter import *\n",
    "master=Tk()\n",
    "label1=Label(master,text=\"name\").grid(row=0,sticky=W)\n",
    "label2=Label(master,text=\"password\").grid(row=1,sticky=W)\n",
    "entry1=Entry(master).grid(row=0,column=1)\n",
    "entry2=Entry(master).grid(row=1,column=1)\n",
    "mainloop()"
   ]
  },
  {
   "cell_type": "code",
   "execution_count": 12,
   "metadata": {},
   "outputs": [],
   "source": [
    "from tkinter import *\n",
    "master = Tk()\n",
    "Label(master, text='First Name').grid(row=0)\n",
    "Label(master, text='Last Name').grid(row=1)\n",
    "e1 = Entry(master)\n",
    "e2 = Entry(master)\n",
    "e1.grid(row=0, column=1)\n",
    "e2.grid(row=1, column=1)\n",
    "mainloop()\n"
   ]
  }
 ],
 "metadata": {
  "kernelspec": {
   "display_name": "Python 3",
   "language": "python",
   "name": "python3"
  },
  "language_info": {
   "codemirror_mode": {
    "name": "ipython",
    "version": 3
   },
   "file_extension": ".py",
   "mimetype": "text/x-python",
   "name": "python",
   "nbconvert_exporter": "python",
   "pygments_lexer": "ipython3",
   "version": "3.11.2"
  },
  "orig_nbformat": 4
 },
 "nbformat": 4,
 "nbformat_minor": 2
}
