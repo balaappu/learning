{
 "cells": [
  {
   "cell_type": "code",
   "execution_count": 1,
   "metadata": {},
   "outputs": [
    {
     "name": "stdout",
     "output_type": "stream",
     "text": [
      "['am', 'was', 'what', 'when', 'where', 'whom']\n"
     ]
    }
   ],
   "source": [
    "thislist=[\"am\",\"was\",\"what\",\"when\",\"where\",\"whom\"]\n",
    "print(thislist)"
   ]
  },
  {
   "cell_type": "code",
   "execution_count": 2,
   "metadata": {},
   "outputs": [
    {
     "data": {
      "text/plain": [
       "list"
      ]
     },
     "execution_count": 2,
     "metadata": {},
     "output_type": "execute_result"
    }
   ],
   "source": [
    "thislist=[\"am\",\"was\",\"what\",\"when\",\"where\",\"whom\"]\n",
    "type(thislist)"
   ]
  },
  {
   "cell_type": "code",
   "execution_count": 3,
   "metadata": {},
   "outputs": [
    {
     "data": {
      "text/plain": [
       "'when'"
      ]
     },
     "execution_count": 3,
     "metadata": {},
     "output_type": "execute_result"
    }
   ],
   "source": [
    "thislist=[\"am\",\"was\",\"what\",\"when\",\"where\",\"whom\"]\n",
    "thislist[3]"
   ]
  },
  {
   "cell_type": "code",
   "execution_count": 4,
   "metadata": {},
   "outputs": [
    {
     "name": "stdout",
     "output_type": "stream",
     "text": [
      "am\n",
      "was\n",
      "what\n",
      "when\n",
      "where\n",
      "whom\n"
     ]
    }
   ],
   "source": [
    "#=[\"am\",\"was\",\"what\",\"when\",\"where\",\"whom\"]\n",
    "thislist=[\"am\",\"was\",\"what\",\"when\",\"where\",\"whom\"]\n",
    "for i in thislist:\n",
    "    print(i)"
   ]
  },
  {
   "cell_type": "code",
   "execution_count": 5,
   "metadata": {},
   "outputs": [
    {
     "name": "stdout",
     "output_type": "stream",
     "text": [
      "am was what when where whom "
     ]
    }
   ],
   "source": [
    "thislist=[\"am\",\"was\",\"what\",\"when\",\"where\",\"whom\"]\n",
    "for i in thislist:\n",
    "    print(i,end=\" \")"
   ]
  },
  {
   "cell_type": "code",
   "execution_count": 8,
   "metadata": {},
   "outputs": [
    {
     "name": "stdout",
     "output_type": "stream",
     "text": [
      "['what', 'when', 'where']\n"
     ]
    }
   ],
   "source": [
    "thislist=[\"am\",\"was\",\"what\",\"when\",\"where\",\"whom\"]\n",
    "print(thislist[-4:-1])"
   ]
  },
  {
   "cell_type": "code",
   "execution_count": 9,
   "metadata": {},
   "outputs": [
    {
     "name": "stdout",
     "output_type": "stream",
     "text": [
      "True\n"
     ]
    }
   ],
   "source": [
    "thislist=[\"am\",\"was\",\"what\",\"when\",\"where\",\"whom\"]\n",
    "print('what' in thislist)"
   ]
  },
  {
   "cell_type": "code",
   "execution_count": 10,
   "metadata": {},
   "outputs": [
    {
     "name": "stdout",
     "output_type": "stream",
     "text": [
      "False\n"
     ]
    }
   ],
   "source": [
    "thislist=[\"am\",\"was\",\"what\",\"when\",\"where\",\"whom\"]\n",
    "print(\"work\" in thislist)"
   ]
  },
  {
   "cell_type": "code",
   "execution_count": 11,
   "metadata": {},
   "outputs": [
    {
     "name": "stdout",
     "output_type": "stream",
     "text": [
      "yes this element is inside the list\n"
     ]
    }
   ],
   "source": [
    "thislist=[\"am\",\"was\",\"what\",\"when\",\"where\",\"whom\"]\n",
    "if 'when' in thislist:\n",
    "    print(\"yes this element is inside the list\")\n",
    "else:\n",
    "    print(\"no\")    "
   ]
  },
  {
   "cell_type": "code",
   "execution_count": 12,
   "metadata": {},
   "outputs": [
    {
     "name": "stdout",
     "output_type": "stream",
     "text": [
      "it is not inside the list\n"
     ]
    }
   ],
   "source": [
    "thislist=[\"am\",\"was\",\"what\",\"when\",\"where\",\"whom\"]\n",
    "if 'work' in thislist:\n",
    "    print(\"yes that elelment is inside the list\")\n",
    "else:\n",
    "    print(\"it is not inside the list\")    "
   ]
  },
  {
   "cell_type": "code",
   "execution_count": 13,
   "metadata": {},
   "outputs": [
    {
     "name": "stdout",
     "output_type": "stream",
     "text": [
      "['am', 'was', 'what', 'weird', 'where', 'whom']\n"
     ]
    }
   ],
   "source": [
    "thislist=[\"am\",\"was\",\"what\",\"when\",\"where\",\"whom\"]\n",
    "thislist[3]=\"weird\"\n",
    "print(thislist)"
   ]
  },
  {
   "cell_type": "code",
   "execution_count": null,
   "metadata": {},
   "outputs": [],
   "source": [
    "thislist=[\"am\",\"was\",\"what\",\"when\",\"where\",\"whom\",\"\"]\n"
   ]
  }
 ],
 "metadata": {
  "kernelspec": {
   "display_name": "Python 3",
   "language": "python",
   "name": "python3"
  },
  "language_info": {
   "codemirror_mode": {
    "name": "ipython",
    "version": 3
   },
   "file_extension": ".py",
   "mimetype": "text/x-python",
   "name": "python",
   "nbconvert_exporter": "python",
   "pygments_lexer": "ipython3",
   "version": "3.10.4"
  },
  "orig_nbformat": 4,
  "vscode": {
   "interpreter": {
    "hash": "21cebfe441230840cba1c4cb361f077664989049bef5e2ed5168580d9a660451"
   }
  }
 },
 "nbformat": 4,
 "nbformat_minor": 2
}
