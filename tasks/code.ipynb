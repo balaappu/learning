{
 "cells": [
  {
   "attachments": {},
   "cell_type": "markdown",
   "metadata": {},
   "source": [
    "GUI TKINTER TASKS"
   ]
  },
  {
   "cell_type": "code",
   "execution_count": 4,
   "metadata": {},
   "outputs": [],
   "source": [
    "#write a py  gui program to import tkinter package and create a window and set its title\n",
    "import tkinter as tk\n",
    "r=tk.Tk()\n",
    "r.title('main window')\n",
    "r.mainloop()"
   ]
  },
  {
   "cell_type": "code",
   "execution_count": 5,
   "metadata": {},
   "outputs": [],
   "source": [
    "from tkinter import *\n",
    "r=tk.Tk()\n",
    "r.title('window')\n",
    "W=Label(r,text='main screen')\n",
    "W.pack()\n",
    "r.mainloop()"
   ]
  },
  {
   "attachments": {},
   "cell_type": "markdown",
   "metadata": {},
   "source": [
    "LIST TASKS"
   ]
  },
  {
   "cell_type": "code",
   "execution_count": 11,
   "metadata": {},
   "outputs": [
    {
     "name": "stdout",
     "output_type": "stream",
     "text": [
      "red\n",
      "black\n"
     ]
    }
   ],
   "source": [
    "#write A python program to display the first and last colors from the following list\n",
    "color_list=['red','green','white','black']\n",
    "for i in color_list:\n",
    "    if (i=='green') or(i=='white'):\n",
    "        continue\n",
    "    print(i)"
   ]
  },
  {
   "cell_type": "code",
   "execution_count": 1,
   "metadata": {},
   "outputs": [
    {
     "name": "stdout",
     "output_type": "stream",
     "text": [
      "['red', 'black']\n"
     ]
    }
   ],
   "source": [
    "color_list=['red','green','white','black']\n",
    "color_list.remove('green')\n",
    "color_list.remove('white')\n",
    "print(color_list)"
   ]
  },
  {
   "attachments": {},
   "cell_type": "markdown",
   "metadata": {},
   "source": [
    "#FUNCTION TASK"
   ]
  },
  {
   "cell_type": "code",
   "execution_count": 3,
   "metadata": {},
   "outputs": [
    {
     "name": "stdout",
     "output_type": "stream",
     "text": [
      "3\n"
     ]
    }
   ],
   "source": [
    "#write a python program to detect number of local varialbes inside function\n",
    "def abc():\n",
    "    a=10\n",
    "    b=20\n",
    "    c=\"welcome\"\n",
    "print(abc.__code__.co_nlocals)    "
   ]
  },
  {
   "cell_type": "code",
   "execution_count": 3,
   "metadata": {},
   "outputs": [
    {
     "name": "stdout",
     "output_type": "stream",
     "text": [
      "vk kl sky hit dk yc smi\n",
      "vk dk\n",
      "yc smi kl\n"
     ]
    }
   ],
   "source": [
    "#python program for function calling inside a another function\n",
    "def indian_players():\n",
    "    print('vk','kl','sky','hit','dk','yc','smi')\n",
    "\n",
    "    def mi_players():\n",
    "        print('hit','sky')\n",
    "\n",
    "    def rc_players():\n",
    "        print('vk','dk')\n",
    "\n",
    "    def other_players():\n",
    "        print('yc','smi','kl')\n",
    "\n",
    "    rc_players()\n",
    "\n",
    "    other_players()\n",
    "\n",
    "indian_players()                    "
   ]
  },
  {
   "cell_type": "code",
   "execution_count": 15,
   "metadata": {},
   "outputs": [
    {
     "name": "stdout",
     "output_type": "stream",
     "text": [
      "Number of local variables: 3\n"
     ]
    }
   ],
   "source": [
    "#write a python program to detect the number of local variables declared in a function\n",
    "def my_function():\n",
    "    x = 1\n",
    "    y = 2\n",
    "    z = 3\n",
    "    local_vars = locals()\n",
    "    num_local_vars = len(local_vars)\n",
    "    print(\"Number of local variables:\", num_local_vars)\n",
    "\n",
    "my_function()\n"
   ]
  },
  {
   "cell_type": "code",
   "execution_count": 5,
   "metadata": {},
   "outputs": [
    {
     "name": "stdout",
     "output_type": "stream",
     "text": [
      "number of local variables: 5\n"
     ]
    }
   ],
   "source": [
    "def my_function():\n",
    "    a=100\n",
    "    b=180\n",
    "    c=\"miller\"\n",
    "    d=\"ayalaan\"\n",
    "    e=\"millenium\"\n",
    "\n",
    "    local_vars=locals()\n",
    "    num_local_vars=len(local_vars)\n",
    "    print(\"number of local variables:\",num_local_vars)\n",
    "\n",
    "my_function()    "
   ]
  }
 ],
 "metadata": {
  "kernelspec": {
   "display_name": "Python 3",
   "language": "python",
   "name": "python3"
  },
  "language_info": {
   "codemirror_mode": {
    "name": "ipython",
    "version": 3
   },
   "file_extension": ".py",
   "mimetype": "text/x-python",
   "name": "python",
   "nbconvert_exporter": "python",
   "pygments_lexer": "ipython3",
   "version": "3.11.2"
  },
  "orig_nbformat": 4
 },
 "nbformat": 4,
 "nbformat_minor": 2
}
