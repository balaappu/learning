{
 "cells": [
  {
   "cell_type": "code",
   "execution_count": 1,
   "metadata": {},
   "outputs": [
    {
     "name": "stdout",
     "output_type": "stream",
     "text": [
      "sureshkumar\n"
     ]
    }
   ],
   "source": [
    "# creating a function named \"name\" adding firstname with lastname\n",
    "def name(fname):\n",
    "    print(fname + \"kumar\")\n",
    "name(\"suresh\")    "
   ]
  },
  {
   "cell_type": "code",
   "execution_count": 2,
   "metadata": {},
   "outputs": [
    {
     "name": "stdout",
     "output_type": "stream",
     "text": [
      "yuvarajsingh\n",
      "harbhajansingh\n",
      "mahendrasingh\n"
     ]
    }
   ],
   "source": [
    "#function with one argument (fname). When the function is called, we pass along a first name, which is used inside the function to print the full name:\n",
    "def name(fname):\n",
    "    print(fname + \"singh\")\n",
    "name(\"yuvaraj\")\n",
    "name(\"harbhajan\")\n",
    "name(\"mahendra\")    "
   ]
  },
  {
   "cell_type": "code",
   "execution_count": 3,
   "metadata": {},
   "outputs": [
    {
     "name": "stdout",
     "output_type": "stream",
     "text": [
      "sachin tendulkar\n"
     ]
    }
   ],
   "source": [
    "#passing two arguments(fname,lname).and getting output of two added argument name\n",
    "def name(fname,lname):\n",
    "    print(fname+ \" \"+lname)\n",
    "name(\"sachin\",\"tendulkar\")    "
   ]
  },
  {
   "cell_type": "code",
   "execution_count": 6,
   "metadata": {},
   "outputs": [
    {
     "name": "stdout",
     "output_type": "stream",
     "text": [
      "mahendrasinghdhoni\n"
     ]
    }
   ],
   "source": [
    "def name(midname):\n",
    "    print(\"mahendra\"+ midname+\"dhoni\")\n",
    "name(\"singh\")    "
   ]
  },
  {
   "cell_type": "code",
   "execution_count": 8,
   "metadata": {},
   "outputs": [
    {
     "name": "stdout",
     "output_type": "stream",
     "text": [
      "father of engg\n",
      "construct the world\n"
     ]
    }
   ],
   "source": [
    "#calling the required paramater(mech,civil) in a set of parameters(mech,civil,cse)\n",
    "def engineering(mech,civil,cse):\n",
    "    print(mech)\n",
    "    print(civil)\n",
    "engineering(\"father of engg\",\"construct the world\",\"ruling the technologies\")    "
   ]
  },
  {
   "cell_type": "code",
   "execution_count": 14,
   "metadata": {},
   "outputs": [
    {
     "name": "stdout",
     "output_type": "stream",
     "text": [
      "the most popular college in pdkt is mookambikai\n"
     ]
    }
   ],
   "source": [
    "#ARBITARY FUNCTIONS\n",
    "#If the number of arguments is unknown, add a * before the parameter name:\n",
    "#in a set of college name(arguments), we get a specific arguments using arbitary function using (*)\n",
    "def clg(*name):\n",
    "    print(\"the most popular college in pdkt is\" + \" \" +name[5])\n",
    "clg(\"sudharshan\",\"senthuran\",\"mahatma\",\"mount zion\",\"shanmuganatan\",\"mookambikai\")    "
   ]
  },
  {
   "cell_type": "code",
   "execution_count": 17,
   "metadata": {},
   "outputs": [
    {
     "name": "stdout",
     "output_type": "stream",
     "text": [
      "the youngest child is rajesh\n"
     ]
    }
   ],
   "source": [
    "#KEYWORD ARGUMENTS FUNCTION IN PYTHON\n",
    "#You can also send arguments with the key = value syntax.\n",
    "def name(child3,child2,child1):\n",
    "    print(\"the youngest child is\"+ \" \"+child3)\n",
    "name(child1=\"ravi\",child2=\"ram\",child3=\"rajesh\")    "
   ]
  },
  {
   "cell_type": "code",
   "execution_count": 20,
   "metadata": {},
   "outputs": [
    {
     "name": "stdout",
     "output_type": "stream",
     "text": [
      "the last name is hardy\n"
     ]
    }
   ],
   "source": [
    "def name(**kid):\n",
    "    print(\"the last name is\" + \" \"+kid[\"lname\"])\n",
    "name(fname=\"tom\",lname=\"hardy\")    "
   ]
  },
  {
   "cell_type": "code",
   "execution_count": 22,
   "metadata": {},
   "outputs": [
    {
     "name": "stdout",
     "output_type": "stream",
     "text": [
      "i am from india\n",
      "i am from pakistan\n",
      "i am from norway\n",
      "i am from russia\n"
     ]
    }
   ],
   "source": [
    "#DEFAULT PARAMETERS VALUE\n",
    "#if we call function without arguments,it uses the default value\n",
    "def name(country=\"norway\"):\n",
    "    print(\"i am from\"+ \" \"+country)\n",
    "\n",
    "name(\"india\")\n",
    "name(\"pakistan\")\n",
    "name()\n",
    "name(\"russia\")"
   ]
  },
  {
   "cell_type": "code",
   "execution_count": 23,
   "metadata": {},
   "outputs": [
    {
     "name": "stdout",
     "output_type": "stream",
     "text": [
      "apple\n",
      "banana\n",
      "cherry\n"
     ]
    }
   ],
   "source": [
    "#PASSING LIST OF ARGUEMRNTS\n",
    "#if you send a List as an argument, it will still be a List when it reaches the function:\n",
    "def my_function(food):\n",
    "    for x in food:\n",
    "        print(x)\n",
    "fruits=[\"apple\",\"banana\",\"cherry\"] \n",
    "my_function(fruits)       \n",
    "\n"
   ]
  },
  {
   "cell_type": "code",
   "execution_count": 25,
   "metadata": {},
   "outputs": [
    {
     "name": "stdout",
     "output_type": "stream",
     "text": [
      "15\n",
      "25\n"
     ]
    }
   ],
   "source": [
    "#RETURN VALUES\n",
    "#To let a function return a value, use the return statement:\n",
    "def my_function(x):\n",
    "    return 5*x\n",
    "print(my_function(3))\n",
    "print(my_function(5))\n"
   ]
  },
  {
   "cell_type": "code",
   "execution_count": 26,
   "metadata": {},
   "outputs": [
    {
     "name": "stdout",
     "output_type": "stream",
     "text": [
      "odd\n",
      "even\n"
     ]
    }
   ],
   "source": [
    "#coding practice\n",
    "#Write a Python program to check even and odd numbers by using a function.\n",
    "def odd_even(num):\n",
    "    if num % 2 == 0:\n",
    "        return \"even\"\n",
    "    else:\n",
    "        return \"odd\"\n",
    "print(odd_even(3))\n",
    "print(odd_even(6))    "
   ]
  },
  {
   "cell_type": "code",
   "execution_count": 33,
   "metadata": {},
   "outputs": [
    {
     "name": "stdout",
     "output_type": "stream",
     "text": [
      "even number\n"
     ]
    }
   ],
   "source": [
    "def number():\n",
    "    num=int(input(\"enter the no:\"))\n",
    "    if num % 2 == 0:\n",
    "        print(\"even number\")\n",
    "    else:\n",
    "        print(\"odd number\")\n",
    "number()            "
   ]
  },
  {
   "cell_type": "code",
   "execution_count": 34,
   "metadata": {},
   "outputs": [
    {
     "name": "stdout",
     "output_type": "stream",
     "text": [
      "45 is greatest\n"
     ]
    }
   ],
   "source": [
    "#Write a python program to find the greatest number from three numbers\n",
    "def greatest(a,b,c):\n",
    "    if a>b and a>c:\n",
    "        return a\n",
    "    elif b>a and b>c:\n",
    "        return b\n",
    "    else:\n",
    "        return c\n",
    "print(f\"{greatest(45,36,18)} is greatest\")    "
   ]
  },
  {
   "cell_type": "code",
   "execution_count": 36,
   "metadata": {},
   "outputs": [
    {
     "name": "stdout",
     "output_type": "stream",
     "text": [
      "mom is palindrome:True\n",
      "rajais palindrome:False\n"
     ]
    }
   ],
   "source": [
    "#PALINDROME\n",
    "#check your name is same in reverse order or not\n",
    "def name_check(n):\n",
    "    if n == n[::-1]:\n",
    "        return True\n",
    "    else:\n",
    "        return False\n",
    "    \n",
    "name=\"mom\"\n",
    "name2=\"raja\"\n",
    "print(f\"{name} is palindrome:{name_check(name)}\")\n",
    "print(f\"{name2}is palindrome:{name_check(name2)}\")    "
   ]
  },
  {
   "cell_type": "code",
   "execution_count": 38,
   "metadata": {},
   "outputs": [
    {
     "name": "stdout",
     "output_type": "stream",
     "text": [
      "it is not a palindrome\n"
     ]
    }
   ],
   "source": [
    "def name_check():\n",
    "    name=input(\"enter the name:\")\n",
    "    if name == name[::-1]:\n",
    "        print(\"it is a palindrome\")\n",
    "    else:\n",
    "        print(\"it is not a palindrome\")\n",
    "name_check()            \n"
   ]
  },
  {
   "cell_type": "code",
   "execution_count": 1,
   "metadata": {},
   "outputs": [
    {
     "name": "stdout",
     "output_type": "stream",
     "text": [
      "yuvarajsingh\n"
     ]
    }
   ],
   "source": [
    "def name(fname,y,z):\n",
    "    print(fname + \"singh\")\n",
    "name(\"yuvaraj\",\"harbhajan\",\"mahendra\")\n"
   ]
  }
 ],
 "metadata": {
  "kernelspec": {
   "display_name": "Python 3",
   "language": "python",
   "name": "python3"
  },
  "language_info": {
   "codemirror_mode": {
    "name": "ipython",
    "version": 3
   },
   "file_extension": ".py",
   "mimetype": "text/x-python",
   "name": "python",
   "nbconvert_exporter": "python",
   "pygments_lexer": "ipython3",
   "version": "3.10.4"
  },
  "orig_nbformat": 4,
  "vscode": {
   "interpreter": {
    "hash": "21cebfe441230840cba1c4cb361f077664989049bef5e2ed5168580d9a660451"
   }
  }
 },
 "nbformat": 4,
 "nbformat_minor": 2
}
