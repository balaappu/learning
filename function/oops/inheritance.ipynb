{
 "cells": [
  {
   "cell_type": "code",
   "execution_count": 3,
   "metadata": {},
   "outputs": [
    {
     "name": "stdout",
     "output_type": "stream",
     "text": [
      "john doe\n"
     ]
    }
   ],
   "source": [
    "#parent class\n",
    "#create a class named person with firstname an lastname properties and printname method\n",
    "class person:\n",
    "    def __init__(self,fname,lname):\n",
    "        self.firstname=fname\n",
    "        self.lastname=lname\n",
    "\n",
    "    def printname(self):\n",
    "        print(self.firstname,self.lastname)\n",
    "\n",
    "x=person(\"john\",\"doe\")\n",
    "x.printname()            "
   ]
  },
  {
   "cell_type": "code",
   "execution_count": 6,
   "metadata": {},
   "outputs": [
    {
     "name": "stdout",
     "output_type": "stream",
     "text": [
      "mike olsen\n"
     ]
    }
   ],
   "source": [
    "#child class\n",
    "#create a parent class named person,to create a class named student(child), which will inherit the properties and methods from from the person class\n",
    "class person:\n",
    "    def __init__(self,fname,lname):\n",
    "        self.firstname=fname\n",
    "        self.lastname=lname\n",
    "\n",
    "    def printname(self):\n",
    "        print(self.firstname,self.lastname)\n",
    "\n",
    "class student(person):\n",
    "    pass\n",
    "x=student(\"mike\",\"olsen\")\n",
    "x.printname()\n",
    "\n",
    "\n",
    "        \n",
    "         "
   ]
  },
  {
   "cell_type": "code",
   "execution_count": 11,
   "metadata": {},
   "outputs": [
    {
     "name": "stdout",
     "output_type": "stream",
     "text": [
      "john ravi\n"
     ]
    }
   ],
   "source": [
    "class person:\n",
    "    def __init__(self,fname,lname):\n",
    "        self.firstname=fname\n",
    "        self.lastname=lname\n",
    "\n",
    "    def nameprint(self):\n",
    "        print(self.firstname,self.lastname) \n",
    "\n",
    "class student(person):\n",
    "    def __init__(self, fname, lname):\n",
    "        person.__init__(self,fname, lname)  \n",
    "x=student(\"john\",\"ravi\")\n",
    "x.nameprint()        "
   ]
  },
  {
   "cell_type": "code",
   "execution_count": 12,
   "metadata": {},
   "outputs": [
    {
     "name": "stdout",
     "output_type": "stream",
     "text": [
      "john ravi\n"
     ]
    }
   ],
   "source": [
    "#using super function instead of calling parent class(person)\n",
    "class person:\n",
    "    def __init__(self,fname,lname):\n",
    "        self.firstname=fname\n",
    "        self.lastname=lname\n",
    "\n",
    "    def nameprint(self):\n",
    "        print(self.firstname,self.lastname) \n",
    "\n",
    "class student(person):\n",
    "    def __init__(self, fname, lname):\n",
    "        super().__init__(fname, lname)\n",
    "x=student(\"john\",\"ravi\")\n",
    "x.nameprint()                "
   ]
  }
 ],
 "metadata": {
  "kernelspec": {
   "display_name": "Python 3",
   "language": "python",
   "name": "python3"
  },
  "language_info": {
   "codemirror_mode": {
    "name": "ipython",
    "version": 3
   },
   "file_extension": ".py",
   "mimetype": "text/x-python",
   "name": "python",
   "nbconvert_exporter": "python",
   "pygments_lexer": "ipython3",
   "version": "3.10.4"
  },
  "orig_nbformat": 4,
  "vscode": {
   "interpreter": {
    "hash": "21cebfe441230840cba1c4cb361f077664989049bef5e2ed5168580d9a660451"
   }
  }
 },
 "nbformat": 4,
 "nbformat_minor": 2
}
