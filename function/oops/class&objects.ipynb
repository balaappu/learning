{
 "cells": [
  {
   "cell_type": "code",
   "execution_count": null,
   "metadata": {},
   "outputs": [],
   "source": [
    "#CLASS"
   ]
  },
  {
   "cell_type": "code",
   "execution_count": 1,
   "metadata": {},
   "outputs": [
    {
     "name": "stdout",
     "output_type": "stream",
     "text": [
      "5\n"
     ]
    }
   ],
   "source": [
    "#create a class named myclass and create a object named p1 and print the value of x\n",
    "class myclass:\n",
    "    x=5\n",
    "p1=myclass()\n",
    "print(p1.x)    "
   ]
  },
  {
   "cell_type": "code",
   "execution_count": 2,
   "metadata": {},
   "outputs": [
    {
     "name": "stdout",
     "output_type": "stream",
     "text": [
      "john\n",
      "36\n"
     ]
    }
   ],
   "source": [
    "# __init__() function\n",
    "#create a class named person,use __init__() function to assign values for name and age\n",
    "class person:\n",
    "    def __init__(self,name,age):\n",
    "        self.name=name\n",
    "        self.age=age\n",
    "\n",
    "p1=person(\"john\",36)\n",
    "print(p1.name)  \n",
    "print(p1.age)      "
   ]
  },
  {
   "cell_type": "code",
   "execution_count": 3,
   "metadata": {},
   "outputs": [
    {
     "name": "stdout",
     "output_type": "stream",
     "text": [
      "john(36)\n"
     ]
    }
   ],
   "source": [
    "#string function[__str__()]\n",
    "#using sring function retuen the value of class\n",
    "\n",
    "class person:\n",
    "    def __init__(self,name,age):\n",
    "        self.name=name\n",
    "        self.age=age\n",
    "\n",
    "    def __str__(self):\n",
    "        return f\"{self.name}({self.age})\"\n",
    "\n",
    "p1=person(\"john\",36)\n",
    "print(p1)            \n"
   ]
  },
  {
   "cell_type": "code",
   "execution_count": null,
   "metadata": {},
   "outputs": [],
   "source": [
    "#OBJECTS"
   ]
  },
  {
   "cell_type": "code",
   "execution_count": 5,
   "metadata": {},
   "outputs": [
    {
     "name": "stdout",
     "output_type": "stream",
     "text": [
      "hello my name isjohn\n"
     ]
    }
   ],
   "source": [
    "class person:\n",
    "    def __init__(self,name,age):\n",
    "        self.name=name\n",
    "        self.age=age\n",
    "\n",
    "    def myfunction(self):\n",
    "        print(\"hello my name is\"+self.name)\n",
    "\n",
    "p1=person(\"john\",36)\n",
    "p1.myfunction()\n",
    "        "
   ]
  },
  {
   "cell_type": "code",
   "execution_count": 6,
   "metadata": {},
   "outputs": [
    {
     "name": "stdout",
     "output_type": "stream",
     "text": [
      "hello my name is john\n"
     ]
    }
   ],
   "source": [
    "#create a variable name sillyobject and abc instead of self\n",
    "class person:\n",
    "    def __init__(mysillyobject,name,age):\n",
    "        mysillyobject.name=name\n",
    "        mysillyobject.age=age\n",
    "\n",
    "    def myfunction(abc):\n",
    "        print(\"hello my name is \"+abc.name)\n",
    "\n",
    "p1=person(\"john\",36)\n",
    "p1.myfunction()            \n",
    "        "
   ]
  },
  {
   "cell_type": "code",
   "execution_count": 7,
   "metadata": {},
   "outputs": [
    {
     "name": "stdout",
     "output_type": "stream",
     "text": [
      "40\n"
     ]
    }
   ],
   "source": [
    "class person:\n",
    "    def __init__(self,name,age):\n",
    "        self.name=name\n",
    "        self.age=age\n",
    "\n",
    "    def myfunction(self):\n",
    "        print(\"hello my name is\"+self.name)\n",
    "\n",
    "p1=person(\"john\",36)\n",
    "p1.age=40\n",
    "print(p1.age)\n"
   ]
  }
 ],
 "metadata": {
  "kernelspec": {
   "display_name": "Python 3",
   "language": "python",
   "name": "python3"
  },
  "language_info": {
   "codemirror_mode": {
    "name": "ipython",
    "version": 3
   },
   "file_extension": ".py",
   "mimetype": "text/x-python",
   "name": "python",
   "nbconvert_exporter": "python",
   "pygments_lexer": "ipython3",
   "version": "3.10.4"
  },
  "orig_nbformat": 4,
  "vscode": {
   "interpreter": {
    "hash": "21cebfe441230840cba1c4cb361f077664989049bef5e2ed5168580d9a660451"
   }
  }
 },
 "nbformat": 4,
 "nbformat_minor": 2
}
