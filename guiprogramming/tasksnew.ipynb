{
 "cells": [
  {
   "attachments": {},
   "cell_type": "markdown",
   "metadata": {},
   "source": [
    "#1\n",
    "#BUTTON"
   ]
  },
  {
   "cell_type": "code",
   "execution_count": 2,
   "metadata": {},
   "outputs": [],
   "source": [
    "import tkinter as tk\n",
    "r=tk.Tk()\n",
    "r.title('counting seconds')\n",
    "button=tk.Button(r,text='stop',width=25,command=r.bell)\n",
    "button.pack()\n",
    "r.mainloop()"
   ]
  },
  {
   "cell_type": "code",
   "execution_count": 3,
   "metadata": {},
   "outputs": [],
   "source": [
    "import tkinter as tk\n",
    "m=tk.Tk()\n",
    "m.title('stop watch')\n",
    "button=tk.Button(m,text='start',width=30,command=m.destroy)\n",
    "button.pack()\n",
    "m.mainloop()"
   ]
  },
  {
   "attachments": {},
   "cell_type": "markdown",
   "metadata": {},
   "source": [
    "#2\n",
    "#canvas"
   ]
  },
  {
   "cell_type": "code",
   "execution_count": 4,
   "metadata": {},
   "outputs": [],
   "source": [
    "from tkinter import*\n",
    "master=Tk()\n",
    "w=Canvas(master,width=40,height=60)\n",
    "w.pack()\n",
    "canvas_height=20\n",
    "canvas_width=200\n",
    "y=canvas_height\n",
    "w.create_line(0,y,canvas_width,y)\n",
    "mainloop()"
   ]
  },
  {
   "cell_type": "code",
   "execution_count": 3,
   "metadata": {},
   "outputs": [],
   "source": [
    "from tkinter import *\n",
    "master = Tk()\n",
    "w = Canvas(master, width=40, height=60)\n",
    "w.pack()\n",
    "canvas_height=20\n",
    "canvas_width=200\n",
    "y = int(canvas_height / 2)\n",
    "w.create_line(0, y, canvas_width, y )\n",
    "mainloop()\n"
   ]
  },
  {
   "attachments": {},
   "cell_type": "markdown",
   "metadata": {},
   "source": [
    "#3\n",
    "#checkbutton"
   ]
  },
  {
   "cell_type": "code",
   "execution_count": 4,
   "metadata": {},
   "outputs": [],
   "source": [
    "from tkinter import *\n",
    "master = Tk()\n",
    "var1 = IntVar()\n",
    "Checkbutton(master, text='male', variable=var1).grid(row=0, sticky=W)\n",
    "var2 = IntVar()\n",
    "Checkbutton(master, text='female', variable=var2).grid(row=1, sticky=W)\n",
    "mainloop()\n"
   ]
  },
  {
   "cell_type": "code",
   "execution_count": 5,
   "metadata": {},
   "outputs": [],
   "source": [
    "from tkinter import*\n",
    "master=Tk()\n",
    "Checkbutton1=Checkbutton(text='male').grid(row=0,sticky=W)\n",
    "Checkbutton2=Checkbutton(text='female').grid(row=1,sticky=W)\n",
    "mainloop()"
   ]
  },
  {
   "attachments": {},
   "cell_type": "markdown",
   "metadata": {},
   "source": [
    "#4\n",
    "#ENTRY"
   ]
  },
  {
   "cell_type": "code",
   "execution_count": 8,
   "metadata": {},
   "outputs": [],
   "source": [
    "from tkinter import*\n",
    "master=Tk()\n",
    "label1=Label(master,text='name').grid(row=0,sticky=W)\n",
    "label2=Label(master,text='password').grid(row=1,sticky=W)\n",
    "entry1=Entry(master).grid(row=0,column=1)\n",
    "entry2=Entry(master).grid(row=1,column=1)\n",
    "mainloop()\n"
   ]
  },
  {
   "attachments": {},
   "cell_type": "markdown",
   "metadata": {},
   "source": [
    "#5\n",
    "#FRAME"
   ]
  },
  {
   "cell_type": "code",
   "execution_count": 22,
   "metadata": {},
   "outputs": [],
   "source": [
    "from tkinter import *\n",
    "  \n",
    "root = Tk()\n",
    "frame = Frame(root)\n",
    "frame.pack()\n",
    "bottomframe = Frame(root)\n",
    "bottomframe.pack( side = BOTTOM )\n",
    "redbutton = Button(frame, text = 'Red', fg ='red')\n",
    "redbutton.pack( side = LEFT)\n",
    "greenbutton = Button(frame, text = 'Brown', fg='brown')\n",
    "greenbutton.pack( side = LEFT )\n",
    "bluebutton = Button(frame, text ='Blue', fg ='blue')\n",
    "bluebutton.pack( side = LEFT )\n",
    "blackbutton = Button(bottomframe, text ='Black', fg ='black')\n",
    "blackbutton.pack( side = BOTTOM)\n",
    "root.mainloop()\n"
   ]
  },
  {
   "cell_type": "code",
   "execution_count": 24,
   "metadata": {},
   "outputs": [],
   "source": [
    "from tkinter import*\n",
    "root = Tk()\n",
    "frame = Frame(root)\n",
    "frame.pack()\n",
    "yellowbutton=Button(frame,text='yellow',fg='yellow')\n",
    "yellowbutton.pack(side=LEFT)\n",
    "orangebutton=Button(frame,text='orange',fg='orange')\n",
    "orangebutton.pack(side=LEFT)\n",
    "root.mainloop()"
   ]
  },
  {
   "cell_type": "code",
   "execution_count": 26,
   "metadata": {},
   "outputs": [],
   "source": [
    "from tkinter import*\n",
    "master= Tk()\n",
    "frame=Frame(master)\n",
    "frame.pack()\n",
    "bottomframe = Frame(master)\n",
    "bottomframe.pack( side = BOTTOM )\n",
    "violetbutton=Button(master,text='violet',fg='violet')\n",
    "violetbutton.pack(side=RIGHT)\n",
    "brownbutton=Button(master,text='brown',fg='brown')\n",
    "brownbutton.pack(side=LEFT)\n",
    "blackbutton = Button(bottomframe, text ='Black', fg ='black')\n",
    "blackbutton.pack( side = BOTTOM)\n",
    "master.mainloop()"
   ]
  },
  {
   "attachments": {},
   "cell_type": "markdown",
   "metadata": {},
   "source": [
    "#6\n",
    "#LABEL"
   ]
  },
  {
   "cell_type": "code",
   "execution_count": 27,
   "metadata": {},
   "outputs": [],
   "source": [
    "from tkinter import*\n",
    "master=Tk()\n",
    "label1=Label(master,text=\"all is well\")\n",
    "label1.pack()\n",
    "master.mainloop()"
   ]
  },
  {
   "cell_type": "code",
   "execution_count": 29,
   "metadata": {},
   "outputs": [],
   "source": [
    "from tkinter import*\n",
    "master=Tk()\n",
    "label1=Label(master,text='connect with the nature',fg='red')\n",
    "label2=Label(master,text='mechanical nature',fg='blue')\n",
    "label1.pack()\n",
    "label2.pack()\n",
    "master.mainloop()"
   ]
  },
  {
   "attachments": {},
   "cell_type": "markdown",
   "metadata": {},
   "source": [
    "#7\n",
    "#listbox"
   ]
  },
  {
   "cell_type": "code",
   "execution_count": 5,
   "metadata": {},
   "outputs": [],
   "source": [
    "from tkinter import*\n",
    "master=Tk()\n",
    "lb=Listbox(master)\n",
    "lb.insert(1,\"maths\")\n",
    "lb.insert(2,\"science\")\n",
    "lb.insert(3,\"social\")\n",
    "lb.pack()\n",
    "master.mainloop()"
   ]
  },
  {
   "attachments": {},
   "cell_type": "markdown",
   "metadata": {},
   "source": [
    "#8\n",
    "#menu button"
   ]
  },
  {
   "cell_type": "code",
   "execution_count": 8,
   "metadata": {},
   "outputs": [],
   "source": [
    "from tkinter import*  \n",
    "top = Tk()\n",
    "mb =  Menubutton ( top, text = \"GfG\")\n",
    "mb.grid()\n",
    "mb.menu  =  Menu ( mb, tearoff = 0 )\n",
    "mb[\"menu\"]  =  mb.menu\n",
    "cVar  = IntVar()\n",
    "aVar = IntVar()\n",
    "mb.menu.add_checkbutton ( label ='Contact', variable = cVar )\n",
    "mb.menu.add_checkbutton ( label = 'About', variable = aVar )\n",
    "mb.pack()\n",
    "top.mainloop()\n"
   ]
  },
  {
   "cell_type": "code",
   "execution_count": 9,
   "metadata": {},
   "outputs": [],
   "source": [
    "from tkinter import*\n",
    "master=Tk()\n",
    "mb=Menubutton(master,text='gender')\n",
    "mb.grid()\n",
    "mb.menu = Menu (mb,tearoff= 0)\n",
    "mb['menu'] = mb.menu\n",
    "cVar = IntVar()\n",
    "aVar = IntVar()\n",
    "mb.menu.add_checkbutton(label ='male',variable = cVar)\n",
    "mb.menu.add_checkbutton(label='female',variable = aVar)\n",
    "mb.pack()\n",
    "master.mainloop()"
   ]
  },
  {
   "cell_type": "code",
   "execution_count": 14,
   "metadata": {},
   "outputs": [],
   "source": [
    "from tkinter import*\n",
    "master = Tk()\n",
    "mb = Menubutton(master,text='result')\n",
    "mb.grid()\n",
    "mb.menu = Menu(mb,tearoff=0)\n",
    "mb['menu'] = mb.menu\n",
    "cVar = IntVar()\n",
    "aVar = IntVar()\n",
    "mb.menu.add_checkbutton(label='pass', variable=cVar)\n",
    "mb.menu.add_checkbutton(label='fail',variable=aVar)\n",
    "mb.pack()\n",
    "master.mainloop()"
   ]
  },
  {
   "attachments": {},
   "cell_type": "markdown",
   "metadata": {},
   "source": [
    "#9\n",
    "#menu"
   ]
  },
  {
   "cell_type": "code",
   "execution_count": 2,
   "metadata": {},
   "outputs": [],
   "source": [
    "from tkinter import *\n",
    "      \n",
    "root = Tk()\n",
    "menu = Menu(root)\n",
    "root.config(menu=menu)\n",
    "filemenu = Menu(menu)\n",
    "menu.add_cascade(label='File', menu=filemenu)\n",
    "filemenu.add_command(label='New')\n",
    "filemenu.add_command(label='Open...')\n",
    "filemenu.add_separator()\n",
    "filemenu.add_command(label='Exit', command=root.quit)\n",
    "helpmenu = Menu(menu)\n",
    "menu.add_cascade(label='Help', menu=helpmenu)\n",
    "helpmenu.add_command(label='About')\n",
    "mainloop()\n"
   ]
  },
  {
   "cell_type": "code",
   "execution_count": 8,
   "metadata": {},
   "outputs": [],
   "source": [
    "from tkinter import *\n",
    "      \n",
    "root = Tk()\n",
    "menu = Menu(root)\n",
    "root.config(menu=menu)\n",
    "filemenu = Menu(menu)\n",
    "menu.add_cascade(label='File', menu=filemenu)\n",
    "filemenu.add_command(label='New')\n",
    "filemenu.add_command(label='Open...')\n",
    "filemenu.add_command(label='Exit', command=root.quit)\n",
    "mainloop()"
   ]
  },
  {
   "cell_type": "code",
   "execution_count": 9,
   "metadata": {},
   "outputs": [],
   "source": [
    "from tkinter import*\n",
    "master = Tk()\n",
    "menu = Menu(master)\n",
    "master.config(menu=menu)\n",
    "filemenu = Menu(menu)\n",
    "menu.add_cascade(label='file',menu=filemenu)\n",
    "filemenu.add_command(label='new')\n",
    "filemenu.add_command(label='open')\n",
    "mainloop()"
   ]
  },
  {
   "attachments": {},
   "cell_type": "markdown",
   "metadata": {},
   "source": [
    "#10\n",
    "#message"
   ]
  },
  {
   "cell_type": "code",
   "execution_count": null,
   "metadata": {},
   "outputs": [],
   "source": [
    "from tkinter import *\n",
    "main = Tk()\n",
    "ourMessage ='This is our Message'\n",
    "messageVar = Message(main, text = ourMessage)\n",
    "messageVar.config(bg='lightgreen')\n",
    "messageVar.pack( )\n",
    "main.mainloop( )\n"
   ]
  },
  {
   "cell_type": "code",
   "execution_count": 11,
   "metadata": {},
   "outputs": [],
   "source": [
    "from tkinter import*\n",
    "master = Tk()\n",
    "ourmessage = 'dedication is must to learn'\n",
    "messageVar = Message(master, text= ourmessage)\n",
    "messageVar.pack()\n",
    "master.mainloop()"
   ]
  },
  {
   "cell_type": "code",
   "execution_count": 12,
   "metadata": {},
   "outputs": [],
   "source": [
    "from tkinter import*\n",
    "master=Tk()\n",
    "ourmessage = 'learn to earn money and respect'\n",
    "messageVar = Message(master,text=ourmessage)\n",
    "messageVar.config(bg='red')\n",
    "messageVar.pack()\n",
    "master.mainloop()"
   ]
  },
  {
   "attachments": {},
   "cell_type": "markdown",
   "metadata": {},
   "source": [
    "#11\n",
    "#radiobutton"
   ]
  },
  {
   "cell_type": "code",
   "execution_count": null,
   "metadata": {},
   "outputs": [],
   "source": [
    "from tkinter import *\n",
    "root = Tk()\n",
    "v = IntVar()\n",
    "Radiobutton(root, text='GfG', variable=v, value=1).pack(anchor=W)\n",
    "Radiobutton(root, text='MIT', variable=v, value=2).pack(anchor=W)\n",
    "mainloop()\n"
   ]
  },
  {
   "cell_type": "code",
   "execution_count": 13,
   "metadata": {},
   "outputs": [],
   "source": [
    "from tkinter import*\n",
    "master= Tk()\n",
    "m = IntVar()\n",
    "Radiobutton(master,text='vigin',variable=m,value=1).pack(anchor=W)\n",
    "Radiobutton(master,text='non-virgin',variable=m,value=2).pack(anchor=W)\n",
    "mainloop()"
   ]
  },
  {
   "attachments": {},
   "cell_type": "markdown",
   "metadata": {},
   "source": [
    "#12\n",
    "#scale"
   ]
  },
  {
   "cell_type": "code",
   "execution_count": null,
   "metadata": {},
   "outputs": [],
   "source": [
    "from tkinter import *\n",
    "master = Tk()\n",
    "w = Scale(master, from_=0, to=42)\n",
    "w.pack()\n",
    "w = Scale(master, from_=0, to=200, orient=HORIZONTAL)\n",
    "w.pack()\n",
    "mainloop()\n"
   ]
  },
  {
   "cell_type": "code",
   "execution_count": 16,
   "metadata": {},
   "outputs": [],
   "source": [
    "from tkinter import *\n",
    "master = Tk()\n",
    "w = Scale(master, from_=0, to=42)\n",
    "w.pack()\n",
    "mainloop()\n"
   ]
  },
  {
   "cell_type": "code",
   "execution_count": 18,
   "metadata": {},
   "outputs": [],
   "source": [
    "from tkinter import*\n",
    "master =Tk()\n",
    "W = Scale(master, from_=0, to=25)\n",
    "W.pack()\n",
    "mainloop()"
   ]
  },
  {
   "cell_type": "code",
   "execution_count": 21,
   "metadata": {},
   "outputs": [],
   "source": [
    "from tkinter import*\n",
    "master = Tk()\n",
    "W = Scale(master, from_=0, to=500, orient=VERTICAL)\n",
    "W.pack()\n",
    "mainloop()\n"
   ]
  },
  {
   "attachments": {},
   "cell_type": "markdown",
   "metadata": {},
   "source": [
    "#14\n",
    "#text\n"
   ]
  },
  {
   "cell_type": "code",
   "execution_count": 30,
   "metadata": {},
   "outputs": [],
   "source": [
    "from tkinter import *\n",
    "root = Tk()\n",
    "T = Text(root, height=10, width=30)\n",
    "T.pack()\n",
    "T.insert(END, 'GeeksforGeeks\\nBEST WEBSITE\\n')\n",
    "mainloop()\n"
   ]
  },
  {
   "cell_type": "code",
   "execution_count": 31,
   "metadata": {},
   "outputs": [],
   "source": [
    "from tkinter import*\n",
    "master = Tk()\n",
    "T = Text(master,height=5,width=25)\n",
    "T.pack()\n",
    "T.insert(END,'HUSTLE\\nLOYAL\\nRESPECT')\n",
    "\n",
    "mainloop()"
   ]
  },
  {
   "attachments": {},
   "cell_type": "markdown",
   "metadata": {},
   "source": [
    "#15\n",
    "#TOPLEVEL"
   ]
  },
  {
   "cell_type": "code",
   "execution_count": 33,
   "metadata": {},
   "outputs": [],
   "source": [
    "from tkinter import*\n",
    "master=Tk()\n",
    "master.title('python')\n",
    "top= Toplevel()\n",
    "master.title('java')\n",
    "top.mainloop()"
   ]
  },
  {
   "attachments": {},
   "cell_type": "markdown",
   "metadata": {},
   "source": [
    "#16\n",
    "#spinbox"
   ]
  },
  {
   "cell_type": "code",
   "execution_count": 34,
   "metadata": {},
   "outputs": [],
   "source": [
    "from tkinter import*\n",
    "master = Tk()\n",
    "W= Spinbox(master, from_=0, to=100)\n",
    "W.pack()\n",
    "mainloop()"
   ]
  },
  {
   "attachments": {},
   "cell_type": "markdown",
   "metadata": {},
   "source": [
    "#17\n",
    "#panned window"
   ]
  },
  {
   "cell_type": "code",
   "execution_count": 36,
   "metadata": {},
   "outputs": [],
   "source": [
    "from tkinter import *\n",
    "m1 = PanedWindow()\n",
    "m1.pack(fill = BOTH, expand = 1)\n",
    "left = Entry(m1, bd = 5)\n",
    "m1.add(left)\n",
    "m2 = PanedWindow(m1, orient = VERTICAL)\n",
    "m1.add(m2)\n",
    "top = Scale( m2, orient = HORIZONTAL)\n",
    "m2.add(top)\n",
    "mainloop()\n"
   ]
  }
 ],
 "metadata": {
  "kernelspec": {
   "display_name": "Python 3",
   "language": "python",
   "name": "python3"
  },
  "language_info": {
   "codemirror_mode": {
    "name": "ipython",
    "version": 3
   },
   "file_extension": ".py",
   "mimetype": "text/x-python",
   "name": "python",
   "nbconvert_exporter": "python",
   "pygments_lexer": "ipython3",
   "version": "3.11.2"
  },
  "orig_nbformat": 4
 },
 "nbformat": 4,
 "nbformat_minor": 2
}
