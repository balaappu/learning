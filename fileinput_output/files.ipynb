{
 "cells": [
  {
   "cell_type": "code",
   "execution_count": 3,
   "metadata": {},
   "outputs": [
    {
     "name": "stdout",
     "output_type": "stream",
     "text": [
      "i am learning\n"
     ]
    }
   ],
   "source": [
    "#read only using 'r' access code \n",
    "files=open('practice','r')\n",
    "text=files.read()\n",
    "print(text)"
   ]
  },
  {
   "cell_type": "code",
   "execution_count": 7,
   "metadata": {},
   "outputs": [
    {
     "name": "stdout",
     "output_type": "stream",
     "text": [
      "have to try until win\n"
     ]
    }
   ],
   "source": [
    "#read and write using \"r+\" access code\n",
    "txt=\"have to try until win\"\n",
    "files=open('practice','r+')\n",
    "files.write(txt)\n",
    "print(txt)"
   ]
  },
  {
   "cell_type": "code",
   "execution_count": 18,
   "metadata": {},
   "outputs": [],
   "source": [
    "#open file for writing \"all content has been overwritten\"\n",
    "txt=\"winning is my result\"\n",
    "files=open('practice','w')\n",
    "text=files.write(txt)"
   ]
  },
  {
   "cell_type": "code",
   "execution_count": 20,
   "metadata": {},
   "outputs": [
    {
     "name": "stdout",
     "output_type": "stream",
     "text": [
      "11\n"
     ]
    }
   ],
   "source": [
    "#reading and writing only\n",
    "files=open('practice','w+')\n",
    "text=files.write(\"hello world\")\n",
    "print(text)"
   ]
  },
  {
   "cell_type": "code",
   "execution_count": 25,
   "metadata": {},
   "outputs": [
    {
     "name": "stdout",
     "output_type": "stream",
     "text": [
      "20\n"
     ]
    }
   ],
   "source": [
    "#open a file for writing using \"a\" append\n",
    "#add a contnent line by line using \"\\n\" without replacing previously saved content\n",
    "files=open('practice','a')\n",
    "text=files.write(\"\\n welcome to new era\")\n",
    "print(text)"
   ]
  },
  {
   "cell_type": "code",
   "execution_count": 29,
   "metadata": {},
   "outputs": [
    {
     "name": "stdout",
     "output_type": "stream",
     "text": [
      "\n"
     ]
    }
   ],
   "source": [
    "files=open('practice1.txt','a+')\n",
    "files.write(\" i am writing in sample.txt file\")\n",
    "text=files.read()\n",
    "print(text)"
   ]
  }
 ],
 "metadata": {
  "kernelspec": {
   "display_name": "Python 3",
   "language": "python",
   "name": "python3"
  },
  "language_info": {
   "codemirror_mode": {
    "name": "ipython",
    "version": 3
   },
   "file_extension": ".py",
   "mimetype": "text/x-python",
   "name": "python",
   "nbconvert_exporter": "python",
   "pygments_lexer": "ipython3",
   "version": "3.11.2"
  },
  "orig_nbformat": 4
 },
 "nbformat": 4,
 "nbformat_minor": 2
}
