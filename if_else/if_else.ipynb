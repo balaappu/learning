{
 "cells": [
  {
   "cell_type": "code",
   "execution_count": 1,
   "metadata": {},
   "outputs": [
    {
     "name": "stdout",
     "output_type": "stream",
     "text": [
      "number greater than five\n"
     ]
    }
   ],
   "source": [
    "num=int(input(\"enter a number:\"))\n",
    "\n",
    "if num>5:\n",
    "    print(\"number greater than five\")\n",
    "else:\n",
    "    print(\"number less than five\")    "
   ]
  },
  {
   "attachments": {},
   "cell_type": "markdown",
   "metadata": {},
   "source": [
    "#only if statement"
   ]
  },
  {
   "cell_type": "code",
   "execution_count": 3,
   "metadata": {},
   "outputs": [
    {
     "name": "stdout",
     "output_type": "stream",
     "text": [
      "number is greater then seven\n"
     ]
    }
   ],
   "source": [
    "num = int(input(\"ENter a any number: \"))\n",
    "if num>7:\n",
    "    print(\"number is greater then seven\")\n"
   ]
  },
  {
   "attachments": {},
   "cell_type": "markdown",
   "metadata": {},
   "source": [
    "#only else statement gives error\n"
   ]
  },
  {
   "cell_type": "code",
   "execution_count": 4,
   "metadata": {},
   "outputs": [
    {
     "ename": "SyntaxError",
     "evalue": "invalid syntax (3864224542.py, line 2)",
     "output_type": "error",
     "traceback": [
      "\u001b[1;36m  Cell \u001b[1;32mIn[4], line 2\u001b[1;36m\u001b[0m\n\u001b[1;33m    else:\u001b[0m\n\u001b[1;37m    ^\u001b[0m\n\u001b[1;31mSyntaxError\u001b[0m\u001b[1;31m:\u001b[0m invalid syntax\n"
     ]
    }
   ],
   "source": [
    "num = input(\"ENter your name: \")\n",
    "else:\n",
    "    print(\"this is else block\")\n"
   ]
  },
  {
   "attachments": {},
   "cell_type": "markdown",
   "metadata": {},
   "source": [
    "#nested if-else"
   ]
  },
  {
   "cell_type": "code",
   "execution_count": 5,
   "metadata": {},
   "outputs": [
    {
     "name": "stdout",
     "output_type": "stream",
     "text": [
      "number is greater than five \n"
     ]
    }
   ],
   "source": [
    "num=int(input(\"enter a number:\"))\n",
    "\n",
    "if num>10:\n",
    "    if num<15:\n",
    "        print(\"number is less than 15\")\n",
    "    else:\n",
    "        print(\"number is greater than 15\")\n",
    "\n",
    "else:\n",
    "    if num<5:\n",
    "        print(\"number is less than 5\")\n",
    "    else:\n",
    "        print(\"number is greater than five \")    "
   ]
  },
  {
   "attachments": {},
   "cell_type": "markdown",
   "metadata": {},
   "source": [
    "#if-elif-else"
   ]
  },
  {
   "cell_type": "code",
   "execution_count": 9,
   "metadata": {},
   "outputs": [
    {
     "name": "stdout",
     "output_type": "stream",
     "text": [
      "num1 is not greater than num2\n"
     ]
    }
   ],
   "source": [
    "num1=5\n",
    "num2=7\n",
    "if num1>num2:\n",
    "    print(\"num1 greater than num2\")\n",
    "elif num1<num2:\n",
    "    print(\"num1 is not greater than num2\")\n",
    "else:\n",
    "    print(\"both are equal\")        "
   ]
  },
  {
   "cell_type": "code",
   "execution_count": 13,
   "metadata": {},
   "outputs": [
    {
     "name": "stdout",
     "output_type": "stream",
     "text": [
      "ticket price is 150 rupees\n"
     ]
    }
   ],
   "source": [
    "age=int(input(\"enter the age:\"))\n",
    "\n",
    "if age == 0 and age<0:\n",
    "    print(\"enter the valid age\")\n",
    "\n",
    "elif age>1 and age<=3:\n",
    "    print(\"ticket is free\")\n",
    "\n",
    "elif age>4 and age<=10:\n",
    "    print(\"ticket price is 150 rupees\")\n",
    "\n",
    "elif age>11 and age<=60:\n",
    "    print(\"ticket price is 200 rupees\")\n",
    "\n",
    "else:\n",
    "    print(\"ticket price is 250 rupees\")"
   ]
  }
 ],
 "metadata": {
  "kernelspec": {
   "display_name": "Python 3",
   "language": "python",
   "name": "python3"
  },
  "language_info": {
   "codemirror_mode": {
    "name": "ipython",
    "version": 3
   },
   "file_extension": ".py",
   "mimetype": "text/x-python",
   "name": "python",
   "nbconvert_exporter": "python",
   "pygments_lexer": "ipython3",
   "version": "3.11.2"
  },
  "orig_nbformat": 4
 },
 "nbformat": 4,
 "nbformat_minor": 2
}
