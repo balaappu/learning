{
 "cells": [
  {
   "cell_type": "code",
   "execution_count": 2,
   "metadata": {},
   "outputs": [
    {
     "name": "stdout",
     "output_type": "stream",
     "text": [
      "updating db...\n",
      "updated db\n",
      "1\n",
      "2\n",
      "3\n",
      "4\n",
      "5\n"
     ]
    }
   ],
   "source": [
    "import threading\n",
    "#importing  thread module\n",
    "import time\n",
    "#importing time for deliberate time delay\n",
    "\n",
    "#creating a function named as update_db \n",
    "def update_db():\n",
    "    print(\"updating db...\")\n",
    "#setting delay time 5 seconds for this print function excecution    \n",
    "    time.sleep(5)\n",
    "    print(\"updated db\")\n",
    "\n",
    "#creating a new function differ from previous function\n",
    "def display_nums(num):\n",
    "    for i in range(1,num+1):\n",
    "        print(i)\n",
    "#function calling\n",
    "update_db()\n",
    "display_nums(5)        "
   ]
  },
  {
   "cell_type": "code",
   "execution_count": 4,
   "metadata": {},
   "outputs": [
    {
     "name": "stdout",
     "output_type": "stream",
     "text": [
      "updating db...1\n",
      "2\n",
      "3\n",
      "4\n",
      "5\n",
      "\n"
     ]
    },
    {
     "name": "stdout",
     "output_type": "stream",
     "text": [
      "updated db\n"
     ]
    }
   ],
   "source": [
    "import threading\n",
    "import time\n",
    "\n",
    "def update_db():\n",
    "    print(\"updating db...\")\n",
    "    time.sleep(5)\n",
    "    print(\"updated db\")\n",
    "\n",
    "def display_nums(num):\n",
    "    for i in range(1,num+1):\n",
    "        print(i)\n",
    "\n",
    "\n",
    "threading_db=threading.Thread(target=update_db)\n",
    "threading_db.start()\n",
    "\n",
    "display_nums(5)\n",
    "\n"
   ]
  },
  {
   "cell_type": "code",
   "execution_count": 7,
   "metadata": {},
   "outputs": [
    {
     "name": "stdout",
     "output_type": "stream",
     "text": [
      "updating db...1\n",
      "2\n",
      "3\n",
      "4\n",
      "5\n",
      "bye\n",
      "\n"
     ]
    },
    {
     "name": "stdout",
     "output_type": "stream",
     "text": [
      "updated db\n"
     ]
    }
   ],
   "source": [
    "import threading\n",
    "import time\n",
    "\n",
    "def update_db():\n",
    "    print(\"updating db...\")\n",
    "    time.sleep(5)\n",
    "    print(\"updated db\")\n",
    "\n",
    "def display_nums(num):\n",
    "    for i in range(1,num+1):\n",
    "        print(i)\n",
    "\n",
    "\n",
    "threading_db=threading.Thread(target=update_db)\n",
    "threading_db.start()\n",
    "\n",
    "display_nums(5)\n",
    "print(\"bye\")"
   ]
  },
  {
   "cell_type": "code",
   "execution_count": 9,
   "metadata": {},
   "outputs": [
    {
     "name": "stdout",
     "output_type": "stream",
     "text": [
      "updating db...1\n",
      "2\n",
      "3\n",
      "4\n",
      "5\n",
      "\n",
      "updated db\n",
      "bye\n"
     ]
    }
   ],
   "source": [
    "import threading\n",
    "import time\n",
    "\n",
    "def update_db():\n",
    "    print(\"updating db...\")\n",
    "    time.sleep(5)\n",
    "    print(\"updated db\")\n",
    "\n",
    "def display_nums(num):\n",
    "    for i in range(1,num+1):\n",
    "        print(i)\n",
    "\n",
    "\n",
    "threading_db=threading.Thread(target=update_db)\n",
    "threading_db.start()\n",
    "\n",
    "display_nums(5)\n",
    "threading_db.join()\n",
    "print(\"bye\")"
   ]
  },
  {
   "cell_type": "code",
   "execution_count": 11,
   "metadata": {},
   "outputs": [
    {
     "name": "stdout",
     "output_type": "stream",
     "text": [
      "one\n",
      "one\n",
      "one\n",
      "one\n",
      "one\n",
      "B\n",
      "B\n",
      "B\n",
      "B\n",
      "B\n"
     ]
    }
   ],
   "source": [
    "from threading import*\n",
    "#defining a class named \"A\",\n",
    "class A(Thread):\n",
    "# defining a function    \n",
    "    def run(self):\n",
    "        for i in range(5):\n",
    "         print(\"one\")\n",
    "#defining a class named \"B\"\n",
    "class B(Thread):\n",
    "# defining a function    \n",
    "    def run(self):\n",
    "        for i in range(5):\n",
    "            print(\"B\")\n",
    "#Object created for class, object name:a\n",
    "a=A()\n",
    "b=B()\n",
    "#calling the class function\n",
    "a.start()\n",
    "b.start()"
   ]
  },
  {
   "cell_type": "code",
   "execution_count": 1,
   "metadata": {},
   "outputs": [
    {
     "name": "stdout",
     "output_type": "stream",
     "text": [
      "one > <A(Thread-3, started 7288)>\n",
      "B__> <B(Thread-4, started 888)>\n"
     ]
    },
    {
     "name": "stdout",
     "output_type": "stream",
     "text": [
      "one > <A(Thread-3, started 7288)>\n",
      "one >B__> <B(Thread-4, started 888)>\n",
      " <A(Thread-3, started 7288)>\n",
      "one > <A(Thread-3, started 7288)>\n",
      "B__>one > <A(Thread-3, started 7288)>\n",
      " <B(Thread-4, started 888)>\n",
      "B__> <B(Thread-4, started 888)>\n",
      "B__> <B(Thread-4, started 888)>\n"
     ]
    }
   ],
   "source": [
    "from time import sleep\n",
    "from threading import*\n",
    "class A(Thread):\n",
    "    def run(self):\n",
    "        for i in range(5):\n",
    "            print(\"one >\",current_thread())\n",
    "            sleep(1)\n",
    "\n",
    "class B(Thread):\n",
    "    def run(self):\n",
    "        for i in range(5):\n",
    "            print(\"B__>\",current_thread())\n",
    "            sleep(2)\n",
    "\n",
    "a=A()\n",
    "b=B()\n",
    "a.start()\n",
    "b.start()"
   ]
  }
 ],
 "metadata": {
  "kernelspec": {
   "display_name": "Python 3",
   "language": "python",
   "name": "python3"
  },
  "language_info": {
   "codemirror_mode": {
    "name": "ipython",
    "version": 3
   },
   "file_extension": ".py",
   "mimetype": "text/x-python",
   "name": "python",
   "nbconvert_exporter": "python",
   "pygments_lexer": "ipython3",
   "version": "3.11.2"
  },
  "orig_nbformat": 4
 },
 "nbformat": 4,
 "nbformat_minor": 2
}
