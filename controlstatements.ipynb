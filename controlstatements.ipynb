{
 "cells": [
  {
   "cell_type": "code",
   "execution_count": 2,
   "metadata": {},
   "outputs": [
    {
     "name": "stdout",
     "output_type": "stream",
     "text": [
      "1\n",
      "2\n",
      "3\n",
      "4\n",
      "5\n",
      "end of the year\n"
     ]
    }
   ],
   "source": [
    "#BREAK STATEMENT\n",
    "#using break statement stop the exection of for loop\n",
    "for i in range(1,11):\n",
    "    if i == 6:\n",
    "        break\n",
    "    print(i)\n",
    "\n",
    "print('end of the year')    \n"
   ]
  },
  {
   "cell_type": "code",
   "execution_count": 1,
   "metadata": {},
   "outputs": [
    {
     "name": "stdout",
     "output_type": "stream",
     "text": [
      "enter list of numbers.enter z to exit\n",
      "[1, 2, 3, 4, 6, 8]\n"
     ]
    }
   ],
   "source": [
    "#using input method to stop the teriminate the loop by using break statement\n",
    "print(\"enter list of numbers.enter z to exit\")\n",
    "list=[]\n",
    "while True:\n",
    "    inp=input()\n",
    "    if inp == 'z':\n",
    "        break\n",
    "    list.append(int(inp))\n",
    "print(list)    "
   ]
  },
  {
   "cell_type": "code",
   "execution_count": 3,
   "metadata": {},
   "outputs": [
    {
     "name": "stdout",
     "output_type": "stream",
     "text": [
      "1\n",
      "2\n",
      "3\n",
      "4\n",
      "5\n",
      "6\n",
      "loop completed\n"
     ]
    }
   ],
   "source": [
    "#using break statement to stop the excecution of  while loop\n",
    "i=1\n",
    "while i<10:\n",
    "    if i == 7:\n",
    "        break\n",
    "    print(i)\n",
    "    i+=1\n",
    "\n",
    "print('loop completed')"
   ]
  },
  {
   "cell_type": "code",
   "execution_count": 6,
   "metadata": {},
   "outputs": [
    {
     "name": "stdout",
     "output_type": "stream",
     "text": [
      "1\n",
      "2\n"
     ]
    }
   ],
   "source": [
    "#for else loop using break \n",
    "for i in range(1,5):\n",
    "    if i == 3:\n",
    "        break\n",
    "    print(i)\n",
    "else:\n",
    "    print(\"loop completed\")"
   ]
  },
  {
   "cell_type": "code",
   "execution_count": 9,
   "metadata": {},
   "outputs": [
    {
     "name": "stdout",
     "output_type": "stream",
     "text": [
      "ravi\n",
      "raja\n"
     ]
    }
   ],
   "source": [
    "name=[\"ravi\",\"raja\",\"vivek\",\"ram\",\"muthu\",\"bharani\"]\n",
    "for i in name:\n",
    "    if i == 'vivek':\n",
    "        break\n",
    "    print(i)\n"
   ]
  },
  {
   "cell_type": "code",
   "execution_count": 10,
   "metadata": {},
   "outputs": [
    {
     "name": "stdout",
     "output_type": "stream",
     "text": [
      "1\n",
      "2\n",
      "4\n",
      "5\n"
     ]
    }
   ],
   "source": [
    "#CONTINUE\n",
    "#using continue statement current iteration of the for loop \n",
    "for i in range(1,6):\n",
    "    if i == 3:\n",
    "        continue\n",
    "    print(i)"
   ]
  },
  {
   "cell_type": "code",
   "execution_count": 11,
   "metadata": {},
   "outputs": [
    {
     "name": "stdout",
     "output_type": "stream",
     "text": [
      "1\n",
      "3\n",
      "4\n",
      "5\n"
     ]
    }
   ],
   "source": [
    "i=0\n",
    "while i<=4:\n",
    "    i+=1\n",
    "    if i == 2:\n",
    "        continue\n",
    "    print(i)"
   ]
  },
  {
   "cell_type": "code",
   "execution_count": 15,
   "metadata": {},
   "outputs": [
    {
     "name": "stdout",
     "output_type": "stream",
     "text": [
      "2\n",
      "4\n",
      "6\n",
      "8\n",
      "10\n",
      "12\n",
      "14\n",
      "16\n",
      "18\n",
      "20\n"
     ]
    }
   ],
   "source": [
    "#using continue statement print even number using while loop\n",
    "i=1\n",
    "while i<=20:\n",
    "    if i%2 == 1:\n",
    "        i=i+1\n",
    "        continue\n",
    "    print(i)\n",
    "    i+=1"
   ]
  }
 ],
 "metadata": {
  "kernelspec": {
   "display_name": "Python 3",
   "language": "python",
   "name": "python3"
  },
  "language_info": {
   "codemirror_mode": {
    "name": "ipython",
    "version": 3
   },
   "file_extension": ".py",
   "mimetype": "text/x-python",
   "name": "python",
   "nbconvert_exporter": "python",
   "pygments_lexer": "ipython3",
   "version": "3.10.4"
  },
  "orig_nbformat": 4,
  "vscode": {
   "interpreter": {
    "hash": "21cebfe441230840cba1c4cb361f077664989049bef5e2ed5168580d9a660451"
   }
  }
 },
 "nbformat": 4,
 "nbformat_minor": 2
}
