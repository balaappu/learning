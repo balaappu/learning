{
 "cells": [
  {
   "cell_type": "code",
   "execution_count": 2,
   "metadata": {},
   "outputs": [
    {
     "name": "stdout",
     "output_type": "stream",
     "text": [
      "welcome to new era\n"
     ]
    }
   ],
   "source": [
    "def greeting():\n",
    "    print(\"welcome to new era\")\n",
    "\n",
    "greeting()"
   ]
  },
  {
   "cell_type": "code",
   "execution_count": 11,
   "metadata": {},
   "outputs": [
    {
     "name": "stdout",
     "output_type": "stream",
     "text": [
      "sachin tendulkar\n"
     ]
    }
   ],
   "source": [
    "def name(fname,lname):\n",
    "    print(fname+\" \"+lname)\n",
    "\n",
    "name('sachin','tendulkar')\n",
    "\n"
   ]
  },
  {
   "cell_type": "code",
   "execution_count": 6,
   "metadata": {},
   "outputs": [
    {
     "name": "stdout",
     "output_type": "stream",
     "text": [
      "the most famous college is sudharshan\n"
     ]
    }
   ],
   "source": [
    "#Arbitrary Arguments, *args\n",
    "\n",
    "def clg(*name):\n",
    "    print(\"the most famous college is\"+ \" \"+name[4])\n",
    "\n",
    "clg('mount zion','mahatma','mookambikai','shanmuganatan','sudharshan')\n"
   ]
  },
  {
   "cell_type": "code",
   "execution_count": 7,
   "metadata": {},
   "outputs": [
    {
     "name": "stdout",
     "output_type": "stream",
     "text": [
      "sunil\n"
     ]
    }
   ],
   "source": [
    "#arbitary arguments function (*)\n",
    "def stud(*name):\n",
    "    print(name[3])\n",
    "\n",
    "stud('hari','ram','siva','sunil','tharun','ashwin')    "
   ]
  },
  {
   "cell_type": "code",
   "execution_count": 9,
   "metadata": {},
   "outputs": [
    {
     "name": "stdout",
     "output_type": "stream",
     "text": [
      "name: deva\n",
      "city: cbe\n",
      "department: IT\n"
     ]
    }
   ],
   "source": [
    "#keyword arguments\n",
    "def stud_info(name,city,dept):\n",
    "    print(\"name:\",name)\n",
    "    print(\"city:\",city)\n",
    "    print(\"department:\",dept)\n",
    "\n",
    "stud_info(city='cbe',name='deva',dept='IT')\n"
   ]
  },
  {
   "cell_type": "code",
   "execution_count": 12,
   "metadata": {},
   "outputs": [
    {
     "name": "stdout",
     "output_type": "stream",
     "text": [
      "{'name': 'hari', 'job': 'sales', 'city': 'cbe', 'contact': 892563707}\n"
     ]
    }
   ],
   "source": [
    "#arbitarty keyword arguments\n",
    "\n",
    "def emp_info(**info):\n",
    "    print(info)\n",
    "\n",
    "emp_info(name='hari',job='sales',city='cbe',contact=892563707)"
   ]
  },
  {
   "cell_type": "code",
   "execution_count": 15,
   "metadata": {},
   "outputs": [
    {
     "name": "stdout",
     "output_type": "stream",
     "text": [
      "i am from swedan\n",
      "i am from norway\n",
      "i am from india\n"
     ]
    }
   ],
   "source": [
    "#default parameters function\n",
    "\n",
    "def my_function(country='norway'):\n",
    "    print(\"i am from\"+ \" \"+country)\n",
    "\n",
    "my_function(\"swedan\")\n",
    "my_function()\n",
    "my_function(\"india\")    \n"
   ]
  },
  {
   "cell_type": "code",
   "execution_count": 16,
   "metadata": {},
   "outputs": [
    {
     "name": "stdout",
     "output_type": "stream",
     "text": [
      "total: 253\n"
     ]
    }
   ],
   "source": [
    "# Passing a List as an Argument in Function Python\n",
    "\n",
    "def total(marks):\n",
    "    return sum(marks)\n",
    "print(\"total:\",total([55,47,71,80]))"
   ]
  },
  {
   "cell_type": "code",
   "execution_count": 17,
   "metadata": {},
   "outputs": [
    {
     "name": "stdout",
     "output_type": "stream",
     "text": [
      "factorial: 120\n"
     ]
    }
   ],
   "source": [
    "# recursive function\n",
    "def factorial(x):\n",
    "\n",
    "    if x==1:\n",
    "        return True\n",
    "    else:\n",
    "        return (x * factorial(x-1))\n",
    "\n",
    "print(\"factorial:\",factorial(5))            "
   ]
  },
  {
   "cell_type": "code",
   "execution_count": null,
   "metadata": {},
   "outputs": [],
   "source": []
  }
 ],
 "metadata": {
  "kernelspec": {
   "display_name": "Python 3",
   "language": "python",
   "name": "python3"
  },
  "language_info": {
   "codemirror_mode": {
    "name": "ipython",
    "version": 3
   },
   "file_extension": ".py",
   "mimetype": "text/x-python",
   "name": "python",
   "nbconvert_exporter": "python",
   "pygments_lexer": "ipython3",
   "version": "3.11.2"
  },
  "orig_nbformat": 4
 },
 "nbformat": 4,
 "nbformat_minor": 2
}
