{
 "cells": [
  {
   "cell_type": "code",
   "execution_count": 2,
   "metadata": {},
   "outputs": [
    {
     "name": "stdout",
     "output_type": "stream",
     "text": [
      "factorial of 5 is 120\n"
     ]
    }
   ],
   "source": [
    "#Python program to find Factorial of N number using while loop.\n",
    "num=int(input(\"enter a number:\"))\n",
    "factorial=1\n",
    "i=1\n",
    "while i<=num:\n",
    "    factorial*=i\n",
    "    i=i+1\n",
    "\n",
    "print(f'factorial of {num} is {factorial}')"
   ]
  },
  {
   "cell_type": "code",
   "execution_count": 3,
   "metadata": {},
   "outputs": [
    {
     "name": "stdout",
     "output_type": "stream",
     "text": [
      "factorial of 7 is 5040\n"
     ]
    }
   ],
   "source": [
    "#python program to find a factorial of n number uisng for loop\n",
    "my_num=int(input(\"enter a number:\"))\n",
    "facto=1\n",
    "\n",
    "for i in range(1,my_num+1):\n",
    "    facto*=i\n",
    "\n",
    "print(f'factorial of {my_num} is {facto}')    \n"
   ]
  },
  {
   "cell_type": "code",
   "execution_count": 4,
   "metadata": {},
   "outputs": [
    {
     "name": "stdout",
     "output_type": "stream",
     "text": [
      "factorial of 7 is 5040\n"
     ]
    }
   ],
   "source": [
    "my_num=7\n",
    "facto=1\n",
    "for i in range(1,my_num+1):\n",
    "    facto*=i\n",
    "\n",
    "print(f'factorial of {my_num} is {facto}')    \n"
   ]
  },
  {
   "cell_type": "code",
   "execution_count": 5,
   "metadata": {},
   "outputs": [
    {
     "name": "stdout",
     "output_type": "stream",
     "text": [
      "factorial of 6=720\n"
     ]
    }
   ],
   "source": [
    "#Python program to find Factorial of N number using function.\n",
    "def facto(n):\n",
    "    f=1\n",
    "    for i in range(1,n+1):\n",
    "        f*=i\n",
    "    return f\n",
    "num=int(input('enter a number'))\n",
    "my_facto=facto(num)\n",
    "print(f'factorial of {num}={my_facto}')\n",
    "   "
   ]
  },
  {
   "cell_type": "code",
   "execution_count": 7,
   "metadata": {},
   "outputs": [
    {
     "name": "stdout",
     "output_type": "stream",
     "text": [
      "factorial of 5 = 120\n"
     ]
    }
   ],
   "source": [
    "#Python program to find Factorial of N number using the built-in function.\n",
    "from math import factorial\n",
    "\n",
    "my_num = int(input('enter a number: '))\n",
    "print(f'factorial of {my_num} = {factorial(my_num)}')\n"
   ]
  },
  {
   "cell_type": "code",
   "execution_count": 1,
   "metadata": {},
   "outputs": [
    {
     "name": "stdout",
     "output_type": "stream",
     "text": [
      " factorial of 5=120\n"
     ]
    }
   ],
   "source": [
    "#Factorial of N number in python using recursion\n",
    "def n_factorial(num):\n",
    "    if num<=1:\n",
    "        return 1\n",
    "    else:\n",
    "        return num*n_factorial(num-1)\n",
    "number=int(input(\"enter a number:\"))\n",
    "fac=n_factorial(number)\n",
    "\n",
    "print(f' factorial of {number}={fac}')"
   ]
  },
  {
   "cell_type": "code",
   "execution_count": 5,
   "metadata": {},
   "outputs": [
    {
     "name": "stdout",
     "output_type": "stream",
     "text": [
      "the factorial is = 120\n"
     ]
    }
   ],
   "source": [
    "def fact(x):\n",
    "    if x == 1:\n",
    "        return 1\n",
    "    else:\n",
    "        return(x*fact(x-1))\n",
    "n=int(input(\"enter a number\"))\n",
    "print(\"the factorial is =\",fact(n))            "
   ]
  }
 ],
 "metadata": {
  "kernelspec": {
   "display_name": "Python 3",
   "language": "python",
   "name": "python3"
  },
  "language_info": {
   "codemirror_mode": {
    "name": "ipython",
    "version": 3
   },
   "file_extension": ".py",
   "mimetype": "text/x-python",
   "name": "python",
   "nbconvert_exporter": "python",
   "pygments_lexer": "ipython3",
   "version": "3.10.4"
  },
  "orig_nbformat": 4,
  "vscode": {
   "interpreter": {
    "hash": "21cebfe441230840cba1c4cb361f077664989049bef5e2ed5168580d9a660451"
   }
  }
 },
 "nbformat": 4,
 "nbformat_minor": 2
}
